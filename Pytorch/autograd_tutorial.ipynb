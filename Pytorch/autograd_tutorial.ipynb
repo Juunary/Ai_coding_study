{
 "cells": [
  {
   "cell_type": "code",
   "execution_count": 33,
   "metadata": {},
   "outputs": [
    {
     "name": "stdout",
     "output_type": "stream",
     "text": [
      "tensor([[ 0.6035, -1.1151, -1.8547],\n",
      "        [ 2.1064, -0.5506,  1.7297],\n",
      "        [ 0.8686, -0.8914,  0.6844],\n",
      "        [ 0.5296,  0.2244, -0.3527],\n",
      "        [-0.3780, -0.0345, -2.6298]], requires_grad=True)\n",
      "tensor([0.2397, 0.5736, 0.3549], requires_grad=True)\n"
     ]
    }
   ],
   "source": [
    "import torch\n",
    "\n",
    "# 입력값과 정답값\n",
    "x = torch.ones(5)  # 입력 텐서\n",
    "y = torch.zeros(3)  # 정답 텐서\n",
    "\n",
    "# 가중치 및 편향 (requires_grad=True 설정)\n",
    "w = torch.randn(5, 3, requires_grad=True)\n",
    "b = torch.randn(3, requires_grad=True)\n",
    "\n",
    "# 선형 변환 (z = x * w + b)\n",
    "z = torch.matmul(x, w) + b\n",
    "\n",
    "# 손실 함수 (Binary Cross Entropy with Logits)\n",
    "loss = torch.nn.functional.binary_cross_entropy_with_logits(z, y)\n",
    "\n",
    "# 변화도 출력\n",
    "print(w)\n",
    "print(b)\n"
   ]
  },
  {
   "cell_type": "code",
   "execution_count": 24,
   "metadata": {},
   "outputs": [
    {
     "name": "stdout",
     "output_type": "stream",
     "text": [
      "Gradient function for z = <AddBackward0 object at 0x000001EEF0F53B20>\n",
      "Gradient function for loss = <BinaryCrossEntropyWithLogitsBackward0 object at 0x000001EEF0F523E0>\n"
     ]
    }
   ],
   "source": [
    "print(f\"Gradient function for z = {z.grad_fn}\")  \n",
    "print(f\"Gradient function for loss = {loss.grad_fn}\")\n"
   ]
  },
  {
   "cell_type": "code",
   "execution_count": 34,
   "metadata": {},
   "outputs": [
    {
     "name": "stdout",
     "output_type": "stream",
     "text": [
      "tensor([[ 0.6035, -1.1151, -1.8547],\n",
      "        [ 2.1064, -0.5506,  1.7297],\n",
      "        [ 0.8686, -0.8914,  0.6844],\n",
      "        [ 0.5296,  0.2244, -0.3527],\n",
      "        [-0.3780, -0.0345, -2.6298]], requires_grad=True)\n",
      "tensor([0.2397, 0.5736, 0.3549], requires_grad=True)\n",
      "tensor([[0.3272, 0.0475, 0.0374],\n",
      "        [0.3272, 0.0475, 0.0374],\n",
      "        [0.3272, 0.0475, 0.0374],\n",
      "        [0.3272, 0.0475, 0.0374],\n",
      "        [0.3272, 0.0475, 0.0374]])\n",
      "tensor([0.3272, 0.0475, 0.0374])\n"
     ]
    }
   ],
   "source": [
    "loss.backward()  # 역전파 실행\n",
    "print(w)\n",
    "print(b)\n",
    "# 변화도 출력\n",
    "print(w.grad)\n",
    "print(b.grad)\n"
   ]
  },
  {
   "cell_type": "code",
   "execution_count": 26,
   "metadata": {},
   "outputs": [
    {
     "name": "stdout",
     "output_type": "stream",
     "text": [
      "True\n",
      "False\n"
     ]
    }
   ],
   "source": [
    "z = torch.matmul(x, w) + b  # requires_grad=True인 상태\n",
    "print(z.requires_grad)  # True 출력\n",
    "\n",
    "# 연산 기록 비활성화\n",
    "with torch.no_grad():\n",
    "    z = torch.matmul(x, w) + b\n",
    "\n",
    "print(z.requires_grad)  # False 출력\n"
   ]
  },
  {
   "cell_type": "code",
   "execution_count": 27,
   "metadata": {},
   "outputs": [
    {
     "name": "stdout",
     "output_type": "stream",
     "text": [
      "False\n"
     ]
    }
   ],
   "source": [
    "z = torch.matmul(x, w) + b\n",
    "z_det = z.detach()  # 그래프에서 분리\n",
    "print(z_det.requires_grad)  # False 출력\n"
   ]
  },
  {
   "cell_type": "code",
   "execution_count": 28,
   "metadata": {},
   "outputs": [
    {
     "name": "stdout",
     "output_type": "stream",
     "text": [
      "tensor([[3., 3.],\n",
      "        [3., 3.]])\n",
      "tensor([[3., 3.],\n",
      "        [3., 3.]])\n",
      "tensor([[3., 3.],\n",
      "        [3., 3.]])\n"
     ]
    }
   ],
   "source": [
    "for i in range(3):\n",
    "    x = torch.randn(2, 2, requires_grad=True)\n",
    "    y = x * 3\n",
    "    loss = y.sum()\n",
    "    loss.backward()\n",
    "    print(x.grad)  # 매번 다른 값 출력\n"
   ]
  },
  {
   "cell_type": "code",
   "execution_count": 29,
   "metadata": {},
   "outputs": [
    {
     "name": "stdout",
     "output_type": "stream",
     "text": [
      "tensor([[4., 2., 2., 2., 2.],\n",
      "        [2., 4., 2., 2., 2.],\n",
      "        [2., 2., 4., 2., 2.],\n",
      "        [2., 2., 2., 4., 2.]])\n"
     ]
    }
   ],
   "source": [
    "inp = torch.eye(4, 5, requires_grad=True)  # 4x5 단위 행렬\n",
    "out = (inp + 1).pow(2).t()  # 전치 행렬 연산\n",
    "out.backward(torch.ones_like(out), retain_graph=True)\n",
    "\n",
    "print(inp.grad)  # 변화도 출력\n"
   ]
  },
  {
   "cell_type": "code",
   "execution_count": 30,
   "metadata": {},
   "outputs": [
    {
     "name": "stdout",
     "output_type": "stream",
     "text": [
      "\n",
      "Second call\n",
      "tensor([[8., 4., 4., 4., 4.],\n",
      "        [4., 8., 4., 4., 4.],\n",
      "        [4., 4., 8., 4., 4.],\n",
      "        [4., 4., 4., 8., 4.]])\n",
      "\n",
      "Call after zeroing gradients\n",
      "tensor([[4., 2., 2., 2., 2.],\n",
      "        [2., 4., 2., 2., 2.],\n",
      "        [2., 2., 4., 2., 2.],\n",
      "        [2., 2., 2., 4., 2.]])\n"
     ]
    }
   ],
   "source": [
    "out.backward(torch.ones_like(out), retain_graph=True)\n",
    "print(f\"\\nSecond call\\n{inp.grad}\")  # 변화도가 두 배로 증가\n",
    "\n",
    "inp.grad.zero_()  # 변화도 초기화\n",
    "out.backward(torch.ones_like(out), retain_graph=True)\n",
    "print(f\"\\nCall after zeroing gradients\\n{inp.grad}\")  # 올바른 변화도 출력\n"
   ]
  },
  {
   "cell_type": "code",
   "execution_count": null,
   "metadata": {},
   "outputs": [],
   "source": []
  }
 ],
 "metadata": {
  "kernelspec": {
   "display_name": "Python 3",
   "language": "python",
   "name": "python3"
  },
  "language_info": {
   "codemirror_mode": {
    "name": "ipython",
    "version": 3
   },
   "file_extension": ".py",
   "mimetype": "text/x-python",
   "name": "python",
   "nbconvert_exporter": "python",
   "pygments_lexer": "ipython3",
   "version": "3.11.9"
  }
 },
 "nbformat": 4,
 "nbformat_minor": 2
}
