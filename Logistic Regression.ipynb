{
 "cells": [
  {
   "cell_type": "code",
   "execution_count": 1,
   "metadata": {},
   "outputs": [],
   "source": [
    "import torch\n",
    "import torch.nn as nn\n",
    "import torch.nn.functional as F\n",
    "import torch.optim as optim\n",
    "torch.manual_seed(1)\n",
    "\n"
   ]
  },
  {
   "cell_type": "code",
   "execution_count": 2,
   "metadata": {},
   "outputs": [],
   "source": [
    "x_data = [[1, 2], [2, 3], [3, 1], [4, 3], [5, 3], [6, 2]]\n",
    "y_data = [[0], [0], [0], [1], [1], [1]]\n",
    "x_train = torch.FloatTensor(x_data)\n",
    "y_train = torch.FloatTensor(y_data)\n"
   ]
  },
  {
   "cell_type": "code",
   "execution_count": 7,
   "metadata": {},
   "outputs": [],
   "source": [
    "W = torch.zeros((2, 1), requires_grad=True) # 크기는 2 x 1\n",
    "b = torch.zeros(1, requires_grad=True)"
   ]
  },
  {
   "cell_type": "code",
   "execution_count": 8,
   "metadata": {},
   "outputs": [
    {
     "name": "stdout",
     "output_type": "stream",
     "text": [
      "Epoch    0/1000 Cost: 0.693147\n",
      "Epoch  100/1000 Cost: 0.134722\n",
      "Epoch  200/1000 Cost: 0.080643\n",
      "Epoch  300/1000 Cost: 0.057900\n",
      "Epoch  400/1000 Cost: 0.045300\n",
      "Epoch  500/1000 Cost: 0.037261\n",
      "Epoch  600/1000 Cost: 0.031673\n",
      "Epoch  700/1000 Cost: 0.027556\n",
      "Epoch  800/1000 Cost: 0.024394\n",
      "Epoch  900/1000 Cost: 0.021888\n",
      "Epoch 1000/1000 Cost: 0.019852\n"
     ]
    }
   ],
   "source": [
    "optimizer = optim.SGD([W, b], lr=1)\n",
    "nb_epochs = 1000\n",
    "for epoch in range(nb_epochs + 1):\n",
    "\n",
    "    # Cost 계산\n",
    "    hypothesis = 1 / (1 + torch.exp(-(x_train.matmul(W) + b)))\n",
    "    # or \n",
    "    hypothesis = torch.sigmoid(x_train.matmul(W) + b)\n",
    "    \n",
    "    cost = -(y_train * torch.log(hypothesis) +  (1 - y_train) * torch.log(1 - hypothesis)).mean()\n",
    "\n",
    "    # cost로 H(x) 개선\n",
    "    optimizer.zero_grad()\n",
    "    cost.backward()\n",
    "    optimizer.step()\n",
    "\n",
    "    # 100번마다 로그 출력\n",
    "    if epoch % 100 == 0:\n",
    "        print('Epoch {:4d}/{} Cost: {:.6f}'.format(\n",
    "            epoch, nb_epochs, cost.item()\n",
    "        ))\n"
   ]
  },
  {
   "cell_type": "markdown",
   "metadata": {},
   "source": [
    "###  nn.Linear와 nn.Sigmoid로 로지스틱 회귀 구현하기"
   ]
  },
  {
   "cell_type": "code",
   "execution_count": 9,
   "metadata": {},
   "outputs": [],
   "source": [
    "x_data = [[1, 2], [2, 3], [3, 1], [4, 3], [5, 3], [6, 2]]\n",
    "y_data = [[0], [0], [0], [1], [1], [1]]\n",
    "x_train = torch.FloatTensor(x_data)\n",
    "y_train = torch.FloatTensor(y_data)"
   ]
  },
  {
   "cell_type": "markdown",
   "metadata": {},
   "source": [
    "W와 b를 선언하는 방법 대신에 아레와 같이 정의합니다.\n",
    "\n",
    "대신에 이후에 W b변수 없이 model.parameters()를 사용하여 코드 작성합니다."
   ]
  },
  {
   "cell_type": "code",
   "execution_count": 10,
   "metadata": {},
   "outputs": [],
   "source": [
    "model = nn.Sequential(\n",
    "   nn.Linear(2, 1), # input_dim = 2, output_dim = 1\n",
    "   nn.Sigmoid() # 출력은 시그모이드 함수를 거친다\n",
    ")"
   ]
  },
  {
   "cell_type": "code",
   "execution_count": 11,
   "metadata": {},
   "outputs": [
    {
     "name": "stdout",
     "output_type": "stream",
     "text": [
      "Epoch    0/1000 Cost: 0.895478 Accuracy 33.33%\n",
      "Epoch   10/1000 Cost: 0.500171 Accuracy 66.67%\n",
      "Epoch   20/1000 Cost: 0.498656 Accuracy 66.67%\n",
      "Epoch   30/1000 Cost: 0.418207 Accuracy 83.33%\n",
      "Epoch   40/1000 Cost: 0.354918 Accuracy 83.33%\n",
      "Epoch   50/1000 Cost: 0.300496 Accuracy 83.33%\n",
      "Epoch   60/1000 Cost: 0.251708 Accuracy 83.33%\n",
      "Epoch   70/1000 Cost: 0.207762 Accuracy 100.00%\n",
      "Epoch   80/1000 Cost: 0.172885 Accuracy 100.00%\n",
      "Epoch   90/1000 Cost: 0.152520 Accuracy 100.00%\n",
      "Epoch  100/1000 Cost: 0.140925 Accuracy 100.00%\n",
      "Epoch  110/1000 Cost: 0.131560 Accuracy 100.00%\n",
      "Epoch  120/1000 Cost: 0.123393 Accuracy 100.00%\n",
      "Epoch  130/1000 Cost: 0.116198 Accuracy 100.00%\n",
      "Epoch  140/1000 Cost: 0.109812 Accuracy 100.00%\n",
      "Epoch  150/1000 Cost: 0.104106 Accuracy 100.00%\n",
      "Epoch  160/1000 Cost: 0.098976 Accuracy 100.00%\n",
      "Epoch  170/1000 Cost: 0.094339 Accuracy 100.00%\n",
      "Epoch  180/1000 Cost: 0.090128 Accuracy 100.00%\n",
      "Epoch  190/1000 Cost: 0.086285 Accuracy 100.00%\n",
      "Epoch  200/1000 Cost: 0.082765 Accuracy 100.00%\n",
      "Epoch  210/1000 Cost: 0.079528 Accuracy 100.00%\n",
      "Epoch  220/1000 Cost: 0.076540 Accuracy 100.00%\n",
      "Epoch  230/1000 Cost: 0.073774 Accuracy 100.00%\n",
      "Epoch  240/1000 Cost: 0.071207 Accuracy 100.00%\n",
      "Epoch  250/1000 Cost: 0.068816 Accuracy 100.00%\n",
      "Epoch  260/1000 Cost: 0.066584 Accuracy 100.00%\n",
      "Epoch  270/1000 Cost: 0.064496 Accuracy 100.00%\n",
      "Epoch  280/1000 Cost: 0.062538 Accuracy 100.00%\n",
      "Epoch  290/1000 Cost: 0.060699 Accuracy 100.00%\n",
      "Epoch  300/1000 Cost: 0.058966 Accuracy 100.00%\n",
      "Epoch  310/1000 Cost: 0.057332 Accuracy 100.00%\n",
      "Epoch  320/1000 Cost: 0.055789 Accuracy 100.00%\n",
      "Epoch  330/1000 Cost: 0.054328 Accuracy 100.00%\n",
      "Epoch  340/1000 Cost: 0.052943 Accuracy 100.00%\n",
      "Epoch  350/1000 Cost: 0.051628 Accuracy 100.00%\n",
      "Epoch  360/1000 Cost: 0.050379 Accuracy 100.00%\n",
      "Epoch  370/1000 Cost: 0.049190 Accuracy 100.00%\n",
      "Epoch  380/1000 Cost: 0.048057 Accuracy 100.00%\n",
      "Epoch  390/1000 Cost: 0.046975 Accuracy 100.00%\n",
      "Epoch  400/1000 Cost: 0.045943 Accuracy 100.00%\n",
      "Epoch  410/1000 Cost: 0.044955 Accuracy 100.00%\n",
      "Epoch  420/1000 Cost: 0.044010 Accuracy 100.00%\n",
      "Epoch  430/1000 Cost: 0.043105 Accuracy 100.00%\n",
      "Epoch  440/1000 Cost: 0.042236 Accuracy 100.00%\n",
      "Epoch  450/1000 Cost: 0.041403 Accuracy 100.00%\n",
      "Epoch  460/1000 Cost: 0.040602 Accuracy 100.00%\n",
      "Epoch  470/1000 Cost: 0.039833 Accuracy 100.00%\n",
      "Epoch  480/1000 Cost: 0.039092 Accuracy 100.00%\n",
      "Epoch  490/1000 Cost: 0.038379 Accuracy 100.00%\n",
      "Epoch  500/1000 Cost: 0.037692 Accuracy 100.00%\n",
      "Epoch  510/1000 Cost: 0.037029 Accuracy 100.00%\n",
      "Epoch  520/1000 Cost: 0.036390 Accuracy 100.00%\n",
      "Epoch  530/1000 Cost: 0.035772 Accuracy 100.00%\n",
      "Epoch  540/1000 Cost: 0.035176 Accuracy 100.00%\n",
      "Epoch  550/1000 Cost: 0.034599 Accuracy 100.00%\n",
      "Epoch  560/1000 Cost: 0.034042 Accuracy 100.00%\n",
      "Epoch  570/1000 Cost: 0.033502 Accuracy 100.00%\n",
      "Epoch  580/1000 Cost: 0.032979 Accuracy 100.00%\n",
      "Epoch  590/1000 Cost: 0.032473 Accuracy 100.00%\n",
      "Epoch  600/1000 Cost: 0.031982 Accuracy 100.00%\n",
      "Epoch  610/1000 Cost: 0.031506 Accuracy 100.00%\n",
      "Epoch  620/1000 Cost: 0.031044 Accuracy 100.00%\n",
      "Epoch  630/1000 Cost: 0.030595 Accuracy 100.00%\n",
      "Epoch  640/1000 Cost: 0.030160 Accuracy 100.00%\n",
      "Epoch  650/1000 Cost: 0.029737 Accuracy 100.00%\n",
      "Epoch  660/1000 Cost: 0.029325 Accuracy 100.00%\n",
      "Epoch  670/1000 Cost: 0.028925 Accuracy 100.00%\n",
      "Epoch  680/1000 Cost: 0.028536 Accuracy 100.00%\n",
      "Epoch  690/1000 Cost: 0.028158 Accuracy 100.00%\n",
      "Epoch  700/1000 Cost: 0.027789 Accuracy 100.00%\n",
      "Epoch  710/1000 Cost: 0.027430 Accuracy 100.00%\n",
      "Epoch  720/1000 Cost: 0.027080 Accuracy 100.00%\n",
      "Epoch  730/1000 Cost: 0.026739 Accuracy 100.00%\n",
      "Epoch  740/1000 Cost: 0.026407 Accuracy 100.00%\n",
      "Epoch  750/1000 Cost: 0.026083 Accuracy 100.00%\n",
      "Epoch  760/1000 Cost: 0.025767 Accuracy 100.00%\n",
      "Epoch  770/1000 Cost: 0.025459 Accuracy 100.00%\n",
      "Epoch  780/1000 Cost: 0.025157 Accuracy 100.00%\n",
      "Epoch  790/1000 Cost: 0.024863 Accuracy 100.00%\n",
      "Epoch  800/1000 Cost: 0.024576 Accuracy 100.00%\n",
      "Epoch  810/1000 Cost: 0.024296 Accuracy 100.00%\n",
      "Epoch  820/1000 Cost: 0.024022 Accuracy 100.00%\n",
      "Epoch  830/1000 Cost: 0.023754 Accuracy 100.00%\n",
      "Epoch  840/1000 Cost: 0.023492 Accuracy 100.00%\n",
      "Epoch  850/1000 Cost: 0.023235 Accuracy 100.00%\n",
      "Epoch  860/1000 Cost: 0.022985 Accuracy 100.00%\n",
      "Epoch  870/1000 Cost: 0.022740 Accuracy 100.00%\n",
      "Epoch  880/1000 Cost: 0.022500 Accuracy 100.00%\n",
      "Epoch  890/1000 Cost: 0.022265 Accuracy 100.00%\n",
      "Epoch  900/1000 Cost: 0.022034 Accuracy 100.00%\n",
      "Epoch  910/1000 Cost: 0.021809 Accuracy 100.00%\n",
      "Epoch  920/1000 Cost: 0.021588 Accuracy 100.00%\n",
      "Epoch  930/1000 Cost: 0.021372 Accuracy 100.00%\n",
      "Epoch  940/1000 Cost: 0.021160 Accuracy 100.00%\n",
      "Epoch  950/1000 Cost: 0.020952 Accuracy 100.00%\n",
      "Epoch  960/1000 Cost: 0.020749 Accuracy 100.00%\n",
      "Epoch  970/1000 Cost: 0.020549 Accuracy 100.00%\n",
      "Epoch  980/1000 Cost: 0.020353 Accuracy 100.00%\n",
      "Epoch  990/1000 Cost: 0.020161 Accuracy 100.00%\n",
      "Epoch 1000/1000 Cost: 0.019972 Accuracy 100.00%\n"
     ]
    }
   ],
   "source": [
    "optimizer = optim.SGD(model.parameters(), lr=1)\n",
    "\n",
    "nb_epochs = 1000\n",
    "for epoch in range(nb_epochs + 1):\n",
    "\n",
    "    # H(x) 계산\n",
    "    hypothesis = model(x_train)\n",
    "\n",
    "    # cost 계산\n",
    "    cost = F.binary_cross_entropy(hypothesis, y_train)\n",
    "\n",
    "    # cost로 H(x) 개선\n",
    "    optimizer.zero_grad()\n",
    "    cost.backward()\n",
    "    optimizer.step()\n",
    "\n",
    "    # 20번마다 로그 출력\n",
    "    if epoch % 10 == 0:\n",
    "        prediction = hypothesis >= torch.FloatTensor([0.5]) # 예측값이 0.5를 넘으면 True로 간주\n",
    "        correct_prediction = prediction.float() == y_train # 실제값과 일치하는 경우만 True로 간주\n",
    "        accuracy = correct_prediction.sum().item() / len(correct_prediction) # 정확도를 계산\n",
    "        print('Epoch {:4d}/{} Cost: {:.6f} Accuracy {:2.2f}%'.format( # 각 에포크마다 정확도를 출력\n",
    "            epoch, nb_epochs, cost.item(), accuracy * 100,\n",
    "        ))"
   ]
  }
 ],
 "metadata": {
  "kernelspec": {
   "display_name": "Python 3",
   "language": "python",
   "name": "python3"
  },
  "language_info": {
   "codemirror_mode": {
    "name": "ipython",
    "version": 3
   },
   "file_extension": ".py",
   "mimetype": "text/x-python",
   "name": "python",
   "nbconvert_exporter": "python",
   "pygments_lexer": "ipython3",
   "version": "3.11.9"
  }
 },
 "nbformat": 4,
 "nbformat_minor": 2
}
