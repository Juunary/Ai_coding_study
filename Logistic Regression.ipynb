{
 "cells": [
  {
   "cell_type": "markdown",
   "metadata": {},
   "source": [
    "### 기초 선언"
   ]
  },
  {
   "cell_type": "code",
   "execution_count": 5,
   "metadata": {},
   "outputs": [
    {
     "data": {
      "text/plain": [
       "<torch._C.Generator at 0x29b2a922610>"
      ]
     },
     "execution_count": 5,
     "metadata": {},
     "output_type": "execute_result"
    }
   ],
   "source": [
    "import torch\n",
    "import torch.nn as nn\n",
    "import torch.nn.functional as F\n",
    "import torch.optim as optim\n",
    "torch.manual_seed(1)"
   ]
  },
  {
   "cell_type": "markdown",
   "metadata": {},
   "source": [
    "### 가중치W 0으로 초기화\n",
    "### 편향b 0으로 초기화\n",
    "tensor([0.], requires_grad=True)\n",
    "tensor([0.], requires_grad=True)\n",
    "[0.]가 0을 의미한다 그리고 requires_grad=True는 동시에 기울기 계산이 가능하다는 의미이다."
   ]
  },
  {
   "cell_type": "code",
   "execution_count": 6,
   "metadata": {},
   "outputs": [
    {
     "name": "stdout",
     "output_type": "stream",
     "text": [
      "tensor([0.], requires_grad=True)\n",
      "tensor([0.], requires_grad=True)\n"
     ]
    }
   ],
   "source": [
    "x_train = torch.FloatTensor([[1], [2], [3]])\n",
    "y_train = torch.FloatTensor([[2], [4], [6]])\n",
    "W = torch.zeros(1, requires_grad=True) \n",
    "b = torch.zeros(1, requires_grad=True)\n",
    "print(W)\n",
    "print(b)"
   ]
  },
  {
   "cell_type": "markdown",
   "metadata": {},
   "source": [
    "### 가설과 함수비용"
   ]
  },
  {
   "cell_type": "code",
   "execution_count": 8,
   "metadata": {},
   "outputs": [
    {
     "name": "stdout",
     "output_type": "stream",
     "text": [
      "tensor([[0.],\n",
      "        [0.],\n",
      "        [0.]], grad_fn=<AddBackward0>)\n",
      "tensor(18.6667, grad_fn=<MeanBackward0>)\n"
     ]
    }
   ],
   "source": [
    "hypothesis = x_train * W + b\n",
    "print(hypothesis)\n",
    "cost = torch.mean((hypothesis - y_train) ** 2) \n",
    "print(cost)"
   ]
  },
  {
   "cell_type": "code",
   "execution_count": 9,
   "metadata": {},
   "outputs": [
    {
     "name": "stdout",
     "output_type": "stream",
     "text": [
      "Epoch    0/1999 W: 0.000, b: 0.000 Cost: 18.666666\n",
      "Epoch  100/1999 W: 0.000, b: 0.000 Cost: 18.666666\n",
      "Epoch  200/1999 W: 0.000, b: 0.000 Cost: 18.666666\n",
      "Epoch  300/1999 W: 0.000, b: 0.000 Cost: 18.666666\n",
      "Epoch  400/1999 W: 0.000, b: 0.000 Cost: 18.666666\n",
      "Epoch  500/1999 W: 0.000, b: 0.000 Cost: 18.666666\n",
      "Epoch  600/1999 W: 0.000, b: 0.000 Cost: 18.666666\n",
      "Epoch  700/1999 W: 0.000, b: 0.000 Cost: 18.666666\n",
      "Epoch  800/1999 W: 0.000, b: 0.000 Cost: 18.666666\n",
      "Epoch  900/1999 W: 0.000, b: 0.000 Cost: 18.666666\n",
      "Epoch 1000/1999 W: 0.000, b: 0.000 Cost: 18.666666\n",
      "Epoch 1100/1999 W: 0.000, b: 0.000 Cost: 18.666666\n",
      "Epoch 1200/1999 W: 0.000, b: 0.000 Cost: 18.666666\n",
      "Epoch 1300/1999 W: 0.000, b: 0.000 Cost: 18.666666\n",
      "Epoch 1400/1999 W: 0.000, b: 0.000 Cost: 18.666666\n",
      "Epoch 1500/1999 W: 0.000, b: 0.000 Cost: 18.666666\n",
      "Epoch 1600/1999 W: 0.000, b: 0.000 Cost: 18.666666\n",
      "Epoch 1700/1999 W: 0.000, b: 0.000 Cost: 18.666666\n",
      "Epoch 1800/1999 W: 0.000, b: 0.000 Cost: 18.666666\n",
      "Epoch 1900/1999 W: 0.000, b: 0.000 Cost: 18.666666\n"
     ]
    }
   ],
   "source": [
    "optimizer = optim.SGD([W, b], lr=0.01)\n",
    "nb_epochs = 1999 # 원하는만큼 경사 하강법을 반복\n",
    "for epoch in range(nb_epochs + 1):\n",
    "\n",
    "    # H(x) 계산\n",
    "    hypothesis = x_train * W + b\n",
    "\n",
    "    # cost 계산\n",
    "    cost = torch.mean((hypothesis - y_train) ** 2)\n",
    "\n",
    "    # cost로 H(x) 개선\n",
    "    optimizer.zero_grad()\n",
    "    cost.backward()\n",
    "    optimizer.step()\n",
    "\n",
    "    # 100번마다 로그 출력\n",
    "    if epoch % 100 == 0:\n",
    "        print('Epoch {:4d}/{} W: {:.3f}, b: {:.3f} Cost: {:.6f}'.format(\n",
    "            epoch, nb_epochs, W.item(), b.item(), cost.item()\n",
    "        ))"
   ]
  }
 ],
 "metadata": {
  "kernelspec": {
   "display_name": "base",
   "language": "python",
   "name": "python3"
  },
  "language_info": {
   "codemirror_mode": {
    "name": "ipython",
    "version": 3
   },
   "file_extension": ".py",
   "mimetype": "text/x-python",
   "name": "python",
   "nbconvert_exporter": "python",
   "pygments_lexer": "ipython3",
   "version": "3.12.4"
  }
 },
 "nbformat": 4,
 "nbformat_minor": 2
}
