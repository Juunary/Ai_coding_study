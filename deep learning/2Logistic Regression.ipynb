{
 "cells": [
  {
   "cell_type": "markdown",
   "metadata": {},
   "source": [
    "### 기초 선언"
   ]
  },
  {
   "cell_type": "code",
   "execution_count": 5,
   "metadata": {},
   "outputs": [
    {
     "data": {
      "text/plain": [
       "<torch._C.Generator at 0x29b2a922610>"
      ]
     },
     "execution_count": 5,
     "metadata": {},
     "output_type": "execute_result"
    }
   ],
   "source": [
    "import torch\n",
    "import torch.nn as nn\n",
    "import torch.nn.functional as F\n",
    "import torch.optim as optim\n",
    "torch.manual_seed(1)"
   ]
  },
  {
   "cell_type": "markdown",
   "metadata": {},
   "source": [
    "### 가중치W 0으로 초기화\n",
    "### 편향b 0으로 초기화\n",
    "tensor([0.], requires_grad=True)\n",
    "tensor([0.], requires_grad=True)\n",
    "[0.]가 0을 의미한다 그리고 requires_grad=True는 동시에 기울기 계산이 가능하다는 의미이다."
   ]
  },
  {
   "cell_type": "code",
   "execution_count": 6,
   "metadata": {},
   "outputs": [
    {
     "name": "stdout",
     "output_type": "stream",
     "text": [
      "tensor([0.], requires_grad=True)\n",
      "tensor([0.], requires_grad=True)\n"
     ]
    }
   ],
   "source": [
    "x_train = torch.FloatTensor([[1], [2], [3]])\n",
    "y_train = torch.FloatTensor([[2], [4], [6]])\n",
    "W = torch.zeros(1, requires_grad=True) \n",
    "b = torch.zeros(1, requires_grad=True)\n",
    "print(W)\n",
    "print(b)"
   ]
  },
  {
   "cell_type": "markdown",
   "metadata": {},
   "source": [
    "### 가설과 함수비용"
   ]
  },
  {
   "cell_type": "code",
   "execution_count": 8,
   "metadata": {},
   "outputs": [
    {
     "name": "stdout",
     "output_type": "stream",
     "text": [
      "tensor([[0.],\n",
      "        [0.],\n",
      "        [0.]], grad_fn=<AddBackward0>)\n",
      "tensor(18.6667, grad_fn=<MeanBackward0>)\n"
     ]
    }
   ],
   "source": [
    "hypothesis = x_train * W + b\n",
    "print(hypothesis)\n",
    "cost = torch.mean((hypothesis - y_train) ** 2) \n",
    "print(cost)"
   ]
  },
  {
   "cell_type": "markdown",
   "metadata": {},
   "source": [
    "1. optimizer.zero_grad()\n",
    "목적: 기울기 초기화\n",
    "설명:\n",
    "PyTorch에서는 **기울기(gradient)**가 누적됩니다. 즉, backward()가 여러 번 호출될 때마다 기울기가 기존의 기울기 값에 계속 더해지게 됩니다.\n",
    "따라서, 새로운 기울기 계산을 시작하기 전에 기존의 기울기를 초기화해야 합니다.\n",
    "optimizer.zero_grad()는 이를 수행하여 이전 기울기를 모두 초기화합니다.\n",
    "예시:\n",
    "\n",
    "만약 optimizer.zero_grad() 없이 backward()를 여러 번 호출하면, 첫 번째 backward()에서 계산된 기울기가 누적되므로, 두 번째 호출에서 잘못된 기울기가 계산될 수 있습니다.\n",
    "\n",
    "2. cost.backward()\n",
    "목적: 기울기 계산 (역전파)\n",
    "설명:\n",
    "cost.backward()는 손실 함수(cost)에 대한 기울기를 각 파라미터에 대해 계산합니다.\n",
    "여기서 \"기울기\"는 손실 함수가 각 파라미터(예: W, b)에 대해 얼마나 민감한지를 나타내는 값입니다. 즉, 파라미터의 작은 변화가 손실에 어떤 영향을 미치는지를 나타냅니다.\n",
    "backward()는 자동으로 미분을 수행하여 기울기를 계산하고, 계산된 기울기는 각 파라미터의 .grad 속성에 저장됩니다.\n",
    "예시:\n",
    "\n",
    "W.grad에는 W에 대한 기울기가, b.grad에는 b에 대한 기울기가 저장됩니다.\n",
    "이 기울기는 가중치 업데이트에 사용됩니다.\n",
    "\n",
    "3. optimizer.step()\n",
    "목적: 가중치 업데이트\n",
    "설명:\n",
    "optimizer.step()은 기울기를 사용하여 가중치를 업데이트합니다. 즉, 경사 하강법(또는 다른 최적화 알고리즘)에 따라 파라미터를 조정합니다.\n",
    "optimizer.step()은 계산된 기울기를 바탕으로 가중치를 업데이트합니다. 보통 W = W - lr * W.grad와 같은 방식으로 업데이트됩니다. lr은 학습률입니다.\n",
    "step()이 실행된 후, 가중치는 기울기 방향으로 조정됩니다.\n",
    "예시:\n",
    "\n",
    "W와 b는 기울기를 반영하여 업데이트됩니다.\n",
    "예를 들어, optimizer.step()이 호출되면, W와 b는 **학습률(lr)**에 따라 기울기 방향으로 조정됩니다.\n"
   ]
  },
  {
   "cell_type": "code",
   "execution_count": 11,
   "metadata": {},
   "outputs": [
    {
     "name": "stdout",
     "output_type": "stream",
     "text": [
      "Epoch    0/1999 W: 1.997, b: 0.006 Cost: 0.000005\n",
      "Epoch  100/1999 W: 1.998, b: 0.005 Cost: 0.000003\n",
      "Epoch  200/1999 W: 1.998, b: 0.004 Cost: 0.000002\n",
      "Epoch  300/1999 W: 1.999, b: 0.003 Cost: 0.000001\n",
      "Epoch  400/1999 W: 1.999, b: 0.002 Cost: 0.000001\n",
      "Epoch  500/1999 W: 1.999, b: 0.002 Cost: 0.000000\n",
      "Epoch  600/1999 W: 1.999, b: 0.001 Cost: 0.000000\n",
      "Epoch  700/1999 W: 2.000, b: 0.001 Cost: 0.000000\n",
      "Epoch  800/1999 W: 2.000, b: 0.001 Cost: 0.000000\n",
      "Epoch  900/1999 W: 2.000, b: 0.001 Cost: 0.000000\n",
      "Epoch 1000/1999 W: 2.000, b: 0.001 Cost: 0.000000\n",
      "Epoch 1100/1999 W: 2.000, b: 0.000 Cost: 0.000000\n",
      "Epoch 1200/1999 W: 2.000, b: 0.000 Cost: 0.000000\n",
      "Epoch 1300/1999 W: 2.000, b: 0.000 Cost: 0.000000\n",
      "Epoch 1400/1999 W: 2.000, b: 0.000 Cost: 0.000000\n",
      "Epoch 1500/1999 W: 2.000, b: 0.000 Cost: 0.000000\n",
      "Epoch 1600/1999 W: 2.000, b: 0.000 Cost: 0.000000\n",
      "Epoch 1700/1999 W: 2.000, b: 0.000 Cost: 0.000000\n",
      "Epoch 1800/1999 W: 2.000, b: 0.000 Cost: 0.000000\n",
      "Epoch 1900/1999 W: 2.000, b: 0.000 Cost: 0.000000\n"
     ]
    }
   ],
   "source": [
    "optimizer = optim.SGD([W, b], lr=0.01)\n",
    "nb_epochs = 1999 # 원하는만큼 경사 하강법을 반복\n",
    "for epoch in range(nb_epochs + 1):\n",
    "\n",
    "    # H(x) 계산\n",
    "    hypothesis = x_train * W + b\n",
    "\n",
    "    # cost 계산\n",
    "    cost = torch.mean((hypothesis - y_train) ** 2)\n",
    "\n",
    "    # cost로 H(x) 개선\n",
    "    optimizer.zero_grad()\n",
    "    cost.backward()\n",
    "    optimizer.step()\n",
    "\n",
    "    # 100번마다 로그 출력\n",
    "    if epoch % 100 == 0:\n",
    "        print('Epoch {:4d}/{} W: {:.3f}, b: {:.3f} Cost: {:.6f}'.format(\n",
    "            epoch, nb_epochs, W.item(), b.item(), cost.item()\n",
    "        ))"
   ]
  },
  {
   "cell_type": "code",
   "execution_count": null,
   "metadata": {},
   "outputs": [],
   "source": []
  }
 ],
 "metadata": {
  "kernelspec": {
   "display_name": "base",
   "language": "python",
   "name": "python3"
  },
  "language_info": {
   "codemirror_mode": {
    "name": "ipython",
    "version": 3
   },
   "file_extension": ".py",
   "mimetype": "text/x-python",
   "name": "python",
   "nbconvert_exporter": "python",
   "pygments_lexer": "ipython3",
   "version": "3.12.4"
  }
 },
 "nbformat": 4,
 "nbformat_minor": 2
}
