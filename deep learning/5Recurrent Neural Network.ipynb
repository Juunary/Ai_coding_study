{
 "cells": [
  {
   "cell_type": "markdown",
   "metadata": {},
   "source": [
    "파이썬으로 RNN 구현해보겠습니다"
   ]
  },
  {
   "cell_type": "code",
   "execution_count": 1,
   "metadata": {},
   "outputs": [],
   "source": [
    "import numpy as np\n",
    "\n",
    "timesteps = 10  # 시점의 수 (sequence length, 문장의 길이 등)\n",
    "input_size = 4  # 입력의 차원 (단어 벡터의 차원 등)\n",
    "hidden_size = 8 # 은닉 상태의 크기\n",
    "\n",
    "inputs = np.random.random((timesteps, input_size))  # 입력 데이터 (10, 4) 크기의 2D 텐서\n",
    "hidden_state_t = np.zeros((hidden_size,))  # 초기 은닉 상태 (8,) 크기의 1D 벡터\n"
   ]
  },
  {
   "cell_type": "code",
   "execution_count": 2,
   "metadata": {},
   "outputs": [],
   "source": [
    "Wx = np.random.random((hidden_size, input_size))  # 입력 x_t에 대한 가중치 (8, 4)\n",
    "Wh = np.random.random((hidden_size, hidden_size)) # 이전 은닉 상태 h_{t-1}에 대한 가중치 (8, 8)\n",
    "b = np.random.random((hidden_size,)) # 편향 (8,)\n"
   ]
  },
  {
   "cell_type": "code",
   "execution_count": 3,
   "metadata": {},
   "outputs": [
    {
     "name": "stdout",
     "output_type": "stream",
     "text": [
      "(1, 8)\n",
      "(2, 8)\n",
      "(3, 8)\n",
      "(4, 8)\n",
      "(5, 8)\n",
      "(6, 8)\n",
      "(7, 8)\n",
      "(8, 8)\n",
      "(9, 8)\n",
      "(10, 8)\n"
     ]
    }
   ],
   "source": [
    "total_hidden_states = []\n",
    "\n",
    "for input_t in inputs:  # 각 시점의 입력을 하나씩 가져옴\n",
    "  output_t = np.tanh(np.dot(Wx, input_t) + np.dot(Wh, hidden_state_t) + b)  # h_t 계산\n",
    "  total_hidden_states.append(list(output_t))  # 결과 저장\n",
    "  print(np.shape(total_hidden_states))  # 현재까지 저장된 은닉 상태의 shape 출력\n",
    "  hidden_state_t = output_t  # 현재 은닉 상태를 다음 시점의 은닉 상태로 업데이트\n"
   ]
  },
  {
   "cell_type": "code",
   "execution_count": 4,
   "metadata": {},
   "outputs": [
    {
     "name": "stdout",
     "output_type": "stream",
     "text": [
      "[[0.90395934 0.95174363 0.90374505 0.78343422 0.88332431 0.781252\n",
      "  0.87148624 0.87139378]\n",
      " [0.99987609 0.99939417 0.99785783 0.99995108 0.9945256  0.99989386\n",
      "  0.99973079 0.99987104]\n",
      " [0.99996728 0.99985526 0.99916417 0.99999334 0.99895446 0.9999873\n",
      "  0.99992443 0.9999754 ]\n",
      " [0.99998754 0.99982906 0.99980634 0.99999422 0.99904675 0.99998647\n",
      "  0.99997113 0.99997593]\n",
      " [0.9999795  0.99974473 0.99966101 0.99999241 0.99838681 0.99998012\n",
      "  0.99995887 0.99996799]\n",
      " [0.999977   0.99970223 0.99964576 0.99999181 0.99823044 0.99997703\n",
      "  0.99995759 0.99996366]\n",
      " [0.99996858 0.9997349  0.99946223 0.99999304 0.99833014 0.99998455\n",
      "  0.99993626 0.99996892]\n",
      " [0.99995505 0.99976936 0.99895439 0.99998988 0.99849256 0.9999723\n",
      "  0.9999241  0.99995987]\n",
      " [0.99991735 0.99973933 0.99752109 0.999991   0.99749978 0.99998259\n",
      "  0.99983263 0.99996638]\n",
      " [0.99986694 0.9994238  0.9977226  0.99998457 0.99721945 0.99994381\n",
      "  0.99986153 0.99991669]]\n"
     ]
    }
   ],
   "source": [
    "total_hidden_states = np.stack(total_hidden_states, axis=0)  # 리스트를 배열로 변환\n",
    "print(total_hidden_states)  # 최종 은닉 상태 출력\n"
   ]
  },
  {
   "cell_type": "code",
   "execution_count": null,
   "metadata": {},
   "outputs": [],
   "source": []
  },
  {
   "cell_type": "code",
   "execution_count": null,
   "metadata": {},
   "outputs": [],
   "source": []
  }
 ],
 "metadata": {
  "kernelspec": {
   "display_name": "base",
   "language": "python",
   "name": "python3"
  },
  "language_info": {
   "codemirror_mode": {
    "name": "ipython",
    "version": 3
   },
   "file_extension": ".py",
   "mimetype": "text/x-python",
   "name": "python",
   "nbconvert_exporter": "python",
   "pygments_lexer": "ipython3",
   "version": "3.11.9"
  }
 },
 "nbformat": 4,
 "nbformat_minor": 2
}
