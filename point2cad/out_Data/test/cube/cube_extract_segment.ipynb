{
 "cells": [
  {
   "cell_type": "code",
   "execution_count": 1,
   "id": "9c09c65e",
   "metadata": {},
   "outputs": [],
   "source": [
    "import numpy as np\n",
    "\n",
    "# 데이터 불러오기\n",
    "data = np.loadtxt(\"cube_prediction.xyzc\")\n",
    "points = data[:, :3]\n",
    "labels = data[:, 3]\n",
    "\n",
    "# 라벨이 0인 점군만 추출\n",
    "target_label = 0\n",
    "plane_points = points[labels == target_label]\n",
    "\n",
    "# 개수가 너무 많으면 랜덤 샘플링\n",
    "if len(plane_points) > 1000:\n",
    "    idx = np.random.choice(len(plane_points), 1000, replace=False)\n",
    "    sampled_points = plane_points[idx]\n",
    "else:\n",
    "    # 부족하면 0-padding\n",
    "    sampled_points = np.zeros((1000, 3))\n",
    "    sampled_points[:len(plane_points)] = plane_points\n"
   ]
  },
  {
   "cell_type": "code",
   "execution_count": 2,
   "id": "9df48c05",
   "metadata": {},
   "outputs": [],
   "source": [
    "import json\n",
    "\n",
    "with open(\"mesh_cube_fitting_result.json\", \"r\") as f:\n",
    "    result = json.load(f)\n",
    "\n",
    "params = result[\"params\"]\n",
    "# Cylinder: direction(3), center(3), radius(1)\n",
    "gt_param = np.array(params[0] + params[1] + [params[2]])  # shape: (7,)\n"
   ]
  },
  {
   "cell_type": "code",
   "execution_count": 3,
   "id": "4be2f31e",
   "metadata": {},
   "outputs": [],
   "source": [
    "import torch\n",
    "\n",
    "def prepare_input(points, init_param, n_points=1000):\n",
    "    if points.shape[0] > n_points:\n",
    "        indices = np.random.choice(points.shape[0], n_points, replace=False)\n",
    "        points = points[indices]\n",
    "    else:\n",
    "        # 패딩\n",
    "        pad = np.zeros((n_points - points.shape[0], 3))\n",
    "        points = np.vstack([points, pad])\n",
    "    \n",
    "    flat_points = points.flatten()\n",
    "    input_vector = np.concatenate([flat_points, init_param])\n",
    "    return torch.tensor(input_vector, dtype=torch.float32), torch.tensor(gt_param, dtype=torch.float32)\n"
   ]
  },
  {
   "cell_type": "code",
   "execution_count": 6,
   "id": "315d8360",
   "metadata": {},
   "outputs": [],
   "source": [
    "import torch.nn as nn\n",
    "\n",
    "class CylinderRegressor(nn.Module):\n",
    "    def __init__(self, input_dim=3*1000 + 7, output_dim=7):\n",
    "        super().__init__()\n",
    "        self.net = nn.Sequential(\n",
    "            nn.Linear(input_dim, 512),\n",
    "            nn.ReLU(),\n",
    "            nn.Linear(512, 256),\n",
    "            nn.ReLU(),\n",
    "            nn.Linear(256, output_dim)\n",
    "        )\n",
    "\n",
    "    def forward(self, x):\n",
    "        return self.net(x)\n"
   ]
  },
  {
   "cell_type": "code",
   "execution_count": null,
   "id": "a397558e",
   "metadata": {},
   "outputs": [
    {
     "ename": "NameError",
     "evalue": "name 'input_vector' is not defined",
     "output_type": "error",
     "traceback": [
      "\u001b[1;31m---------------------------------------------------------------------------\u001b[0m",
      "\u001b[1;31mNameError\u001b[0m                                 Traceback (most recent call last)",
      "Cell \u001b[1;32mIn[5], line 7\u001b[0m\n\u001b[0;32m      5\u001b[0m \u001b[38;5;28;01mfor\u001b[39;00m epoch \u001b[38;5;129;01min\u001b[39;00m \u001b[38;5;28mrange\u001b[39m(\u001b[38;5;241m1000\u001b[39m):\n\u001b[0;32m      6\u001b[0m     model\u001b[38;5;241m.\u001b[39mtrain()\n\u001b[1;32m----> 7\u001b[0m     pred \u001b[38;5;241m=\u001b[39m model(input_vector\u001b[38;5;241m.\u001b[39munsqueeze(\u001b[38;5;241m0\u001b[39m))  \u001b[38;5;66;03m# batch size 1\u001b[39;00m\n\u001b[0;32m      8\u001b[0m     loss \u001b[38;5;241m=\u001b[39m criterion(pred, gt_param\u001b[38;5;241m.\u001b[39munsqueeze(\u001b[38;5;241m0\u001b[39m))\n\u001b[0;32m     10\u001b[0m     optimizer\u001b[38;5;241m.\u001b[39mzero_grad()\n",
      "\u001b[1;31mNameError\u001b[0m: name 'input_vector' is not defined"
     ]
    }
   ],
   "source": [
    "# 학습을 위한 데이터 준비\n",
    "input_tensor, target_tensor = prepare_input(sampled_points, gt_param)\n",
    "\n",
    "# 모델 및 학습 설정\n",
    "model = CylinderRegressor()\n",
    "optimizer = torch.optim.Adam(model.parameters(), lr=1e-3)\n",
    "criterion = nn.MSELoss()\n",
    "\n",
    "# 학습 루프\n",
    "n_epochs = 5000\n",
    "for epoch in range(n_epochs):\n",
    "    model.train()\n",
    "    optimizer.zero_grad()\n",
    "    pred = model(input_tensor.unsqueeze(0))  # (1, input_dim)\n",
    "    loss = criterion(pred.squeeze(), target_tensor)\n",
    "    loss.backward()\n",
    "    optimizer.step()\n",
    "\n",
    "    if (epoch + 1) % 500 == 0:\n",
    "        print(f\"Epoch {epoch+1}/{n_epochs}, Loss: {loss.item():.6f}\")\n"
   ]
  }
 ],
 "metadata": {
  "kernelspec": {
   "display_name": "base",
   "language": "python",
   "name": "python3"
  },
  "language_info": {
   "codemirror_mode": {
    "name": "ipython",
    "version": 3
   },
   "file_extension": ".py",
   "mimetype": "text/x-python",
   "name": "python",
   "nbconvert_exporter": "python",
   "pygments_lexer": "ipython3",
   "version": "3.12.4"
  }
 },
 "nbformat": 4,
 "nbformat_minor": 5
}
