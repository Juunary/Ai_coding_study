{
 "cells": [
  {
   "cell_type": "markdown",
   "id": "485af472",
   "metadata": {},
   "source": [
    "## Json 바탕 이상데이터 생성\n"
   ]
  },
  {
   "cell_type": "code",
   "execution_count": 25,
   "id": "c31932ac",
   "metadata": {},
   "outputs": [
    {
     "name": "stdout",
     "output_type": "stream",
     "text": [
      "✔ 저장 완료 → ./data/cylinder_synthetic_3cls.xyzc\n"
     ]
    }
   ],
   "source": [
    "import json, numpy as np, open3d as o3d, os\n",
    "\n",
    "# ---------- 1. JSON 파라미터 ----------\n",
    "with open(\"cylinder_fitting_result.json\") as f:\n",
    "    info = json.load(f)\n",
    "d  = np.asarray(info[\"params\"][0])\n",
    "p0 = np.asarray(info[\"params\"][1])\n",
    "r  = float(info[\"params\"][2])\n",
    "d /= np.linalg.norm(d)\n",
    "\n",
    "# ---------- 2. half_h ----------\n",
    "scan_xyz = np.loadtxt(\"cylinder.xyz\")[:, :3]\n",
    "proj = (scan_xyz - p0) @ d\n",
    "half_h = (proj.max() - proj.min()) / 2\n",
    "\n",
    "# ---------- 3. 균일 샘플 함수 ----------\n",
    "def sample_cylinder_area_uniform(center, d, r, half_h,\n",
    "                                 total_pts=15_000, add_caps=True):\n",
    "    tmp = np.array([1,0,0]) if abs(d[0]) < 0.9 else np.array([0,1,0])\n",
    "    u = np.cross(d, tmp);  u /= np.linalg.norm(u)\n",
    "    v = np.cross(d, u)\n",
    "\n",
    "    h = 2*half_h\n",
    "    A_side = 2*np.pi*r*h\n",
    "    A_cap  = np.pi*r*r\n",
    "    if add_caps:\n",
    "        A_tot = A_side + 2*A_cap\n",
    "        n_side = int(total_pts * A_side / A_tot)\n",
    "        n_cap  = int(total_pts * A_cap  / A_tot)\n",
    "    else:\n",
    "        n_side, n_cap = total_pts, 0\n",
    "\n",
    "    # --- 측면 ---\n",
    "    z_rand = np.random.uniform(-half_h, half_h, n_side)\n",
    "    t_rand = np.random.uniform(0, 2*np.pi, n_side)\n",
    "    side = (center\n",
    "            + np.outer(z_rand, d)\n",
    "            + np.outer(r*np.cos(t_rand), u)\n",
    "            + np.outer(r*np.sin(t_rand), v))\n",
    "\n",
    "    # --- 뚜껑 ---\n",
    "    def disk(center_cap):\n",
    "        rr = r*np.sqrt(np.random.rand(n_cap))\n",
    "        tt = 2*np.pi*np.random.rand(n_cap)\n",
    "        return (center_cap\n",
    "                + np.outer(rr*np.cos(tt), u)\n",
    "                + np.outer(rr*np.sin(tt), v))\n",
    "\n",
    "    caps = []\n",
    "    if add_caps and n_cap > 0:\n",
    "        caps.append(disk(center + d*half_h))   # 윗뚜껑\n",
    "        caps.append(disk(center - d*half_h))   # 아랫뚜껑\n",
    "\n",
    "    return side, caps  # side:(n_side,3)  caps:[top,bottom]\n",
    "\n",
    "# ---------- 4. 샘플링 ----------\n",
    "side_pts, [top_pts, bot_pts] = sample_cylinder_area_uniform(\n",
    "    p0, d, r, half_h, total_pts=15_000, add_caps=True)\n",
    "\n",
    "# ---------- 5. 라벨링 ----------\n",
    "# 0 = 아랫뚜껑, 1 = 윗뚜껑, 2 = 측면\n",
    "lab_side = np.full(len(side_pts), 2, dtype=int)\n",
    "lab_top  = np.full(len(top_pts),  1, dtype=int)\n",
    "lab_bot  = np.full(len(bot_pts),  0, dtype=int)\n",
    "\n",
    "pts = np.vstack([bot_pts, top_pts, side_pts])\n",
    "labs = np.concatenate([lab_bot, lab_top, lab_side])\n",
    "\n",
    "# ---------- 6. 저장 ----------\n",
    "os.makedirs(\"data\", exist_ok=True)\n",
    "out_path = \"./data/cylinder_synthetic_3cls.xyzc\"\n",
    "np.savetxt(out_path,\n",
    "           np.hstack([pts, labs[:,None]]),\n",
    "           fmt=\"%.6f %.6f %.6f %.8e\")   # 라벨도 e‑표기\n",
    "\n",
    "print(\"✔ 저장 완료 →\", out_path)\n"
   ]
  },
  {
   "cell_type": "markdown",
   "id": "0c2ec597",
   "metadata": {},
   "source": [
    "## 오리진 데이터 레이어 개수 5 > 3개로 줄이기"
   ]
  },
  {
   "cell_type": "code",
   "execution_count": 27,
   "id": "55fa68aa",
   "metadata": {},
   "outputs": [
    {
     "name": "stdout",
     "output_type": "stream",
     "text": [
      "✔ 저장 완료 → ./data/cylinder_pred_3cls.xyzc\n"
     ]
    }
   ],
   "source": [
    "import numpy as np\n",
    "\n",
    "arr = np.loadtxt(\"cylinder_prediction.xyzc\")   # (N,4)\n",
    "xyz  = arr[:, :3]\n",
    "lab  = arr[:, 3]\n",
    "\n",
    "# 1) 잘못된 라벨(2,4) 제거\n",
    "mask = ~np.isin(lab, [2, 4])        # 0·1·3 만 남김\n",
    "xyz, lab = xyz[mask], lab[mask]\n",
    "\n",
    "# 2) 라벨 3 → 2  (최종 0·1·2)\n",
    "lab[lab == 3] = 2\n",
    "\n",
    "arr_fixed = np.hstack([xyz, lab[:, None]])\n",
    "\n",
    "out_path = \"./data/cylinder_pred_3cls.xyzc\"\n",
    "np.savetxt(out_path,\n",
    "           arr_fixed,\n",
    "           fmt=\"%.6e %.6e %.6e %.0e\")   # 4열 모두 e‑표기\n",
    "print(\"✔ 저장 완료 →\", out_path)\n"
   ]
  },
  {
   "cell_type": "markdown",
   "id": "e934d9a4",
   "metadata": {},
   "source": [
    "셀 ② : 데이터로더 정의"
   ]
  },
  {
   "cell_type": "code",
   "execution_count": 28,
   "id": "c660b761",
   "metadata": {},
   "outputs": [],
   "source": [
    "import numpy as np, torch, open3d as o3d\n",
    "from torch.utils.data import Dataset, DataLoader\n",
    "\n",
    "class XYzcDataset(Dataset):\n",
    "    \"\"\" x y z label (ASCII)  →  중심화·스케일·랜덤샘플링 후 Tensor 반환 \"\"\"\n",
    "    def __init__(self, file_list, n_points=4096):\n",
    "        self.files, self.n_points = file_list, n_points\n",
    "\n",
    "    def __len__(self):  return len(self.files)\n",
    "\n",
    "    def __getitem__(self, idx):\n",
    "        xyzc = np.loadtxt(self.files[idx])           # (N,4)\n",
    "        xyz, label = xyzc[:, :3], xyzc[:, 3].astype(np.int64)\n",
    "\n",
    "        # 랜덤 4096 점 샘플 / 부족 시 중복\n",
    "        sel = np.random.choice(len(xyz), self.n_points, replace=len(xyz)<self.n_points)\n",
    "        xyz, label = xyz[sel], label[sel]\n",
    "\n",
    "        # 중심화 + 크기 정규화\n",
    "        xyz -= xyz.mean(0, keepdims=True)\n",
    "        xyz /= np.max(np.linalg.norm(xyz, axis=1))\n",
    "\n",
    "        # Tensor (B,N,3) → (B,3,N) 전치는 학습 셀에서\n",
    "        return torch.from_numpy(xyz).float(), torch.from_numpy(label)\n"
   ]
  },
  {
   "cell_type": "markdown",
   "id": "36c7e264",
   "metadata": {},
   "source": [
    "셀 ③ : 3‑클래스 PointNet 모델"
   ]
  },
  {
   "cell_type": "code",
   "execution_count": 29,
   "id": "8393824a",
   "metadata": {},
   "outputs": [],
   "source": [
    "import torch.nn as nn, torch.nn.functional as F\n",
    "\n",
    "class PointNetSeg(nn.Module):\n",
    "    def __init__(self, num_classes=3):\n",
    "        super().__init__()\n",
    "        self.conv1 = nn.Conv1d(3, 64, 1)\n",
    "        self.conv2 = nn.Conv1d(64, 128, 1)\n",
    "        self.conv3 = nn.Conv1d(128, 1024, 1)\n",
    "        self.bn1, self.bn2, self.bn3 = nn.BatchNorm1d(64), nn.BatchNorm1d(128), nn.BatchNorm1d(1024)\n",
    "\n",
    "        self.conv4 = nn.Conv1d(1088, 512, 1)\n",
    "        self.conv5 = nn.Conv1d(512, 256, 1)\n",
    "        self.conv6 = nn.Conv1d(256, 128, 1)\n",
    "        self.conv7 = nn.Conv1d(128, num_classes, 1)\n",
    "        self.bn4, self.bn5, self.bn6 = nn.BatchNorm1d(512), nn.BatchNorm1d(256), nn.BatchNorm1d(128)\n",
    "\n",
    "    def forward(self, x):               # x:(B,3,N)\n",
    "        B, _, N = x.size()\n",
    "        x1 = F.relu(self.bn1(self.conv1(x)))\n",
    "        x2 = F.relu(self.bn2(self.conv2(x1)))\n",
    "        x3 = F.relu(self.bn3(self.conv3(x2)))        # (B,1024,N)\n",
    "        global_feat = torch.max(x3, 2, keepdim=True)[0].repeat(1,1,N)\n",
    "        x = torch.cat([x1, global_feat], 1)          # (B,1088,N)\n",
    "        x = F.relu(self.bn4(self.conv4(x)))\n",
    "        x = F.relu(self.bn5(self.conv5(x)))\n",
    "        x = F.relu(self.bn6(self.conv6(x)))\n",
    "        x = self.conv7(x)                            # (B,3,N)\n",
    "        return x\n"
   ]
  },
  {
   "cell_type": "markdown",
   "id": "bcfe5ec7",
   "metadata": {},
   "source": [
    "라벨 확인용 점검 코드"
   ]
  },
  {
   "cell_type": "code",
   "execution_count": 30,
   "id": "4e94aa5b",
   "metadata": {},
   "outputs": [
    {
     "name": "stdout",
     "output_type": "stream",
     "text": [
      "=== (A) 첫 배치 라벨 확인 ===\n",
      "unique labels in first batch -> tensor([0, 1, 2])\n",
      "\n",
      "=== (B) 파일별 라벨 전수 확인 ===\n",
      "cylinder_synthetic_3cls.xyzc   unique labels -> [0. 1. 2.]\n",
      "cylinder_pred_3cls.xyzc        unique labels -> [0. 1. 2.]\n",
      "cylinder_synthetic_3cls.xyzc   unique labels -> [0. 1. 2.]\n",
      "cylinder_pred_3cls.xyzc        unique labels -> [0. 1. 2.]\n"
     ]
    }
   ],
   "source": [
    "import os, numpy as np, torch\n",
    "from torch.utils.data import DataLoader\n",
    "\n",
    "# ---------- 경로 ----------\n",
    "root = \"./\"           # main.ipynb 폴더\n",
    "train_files = [\n",
    "    os.path.join(root, \"data/cylinder_synthetic_3cls.xyzc\"),\n",
    "    os.path.join(root, \"data/cylinder_pred_3cls.xyzc\")\n",
    "]\n",
    "val_files = train_files[:]   # 검증용\n",
    "\n",
    "# ---------- DataLoader (라벨 확인용) ----------\n",
    "train_loader = DataLoader(\n",
    "    XYzcDataset(train_files, n_points=4096),\n",
    "    batch_size=1, shuffle=True, drop_last=False\n",
    ")\n",
    "\n",
    "print(\"=== (A) 첫 배치 라벨 확인 ===\")\n",
    "xyz, label = next(iter(train_loader))\n",
    "print(\"unique labels in first batch ->\", torch.unique(label))\n",
    "\n",
    "print(\"\\n=== (B) 파일별 라벨 전수 확인 ===\")\n",
    "for f in train_files + val_files:\n",
    "    arr  = np.loadtxt(f)          # (N,4)\n",
    "    labs = arr[:, 3]\n",
    "    uniq = np.unique(labs)\n",
    "    fname = os.path.basename(f)\n",
    "    print(f\"{fname:30s} unique labels ->\", uniq)\n",
    "\n",
    "    # --- 라벨 3 또는 0·1·2 이외 값이 있으면 샘플 5개 출력 ---\n",
    "    bad_mask = ~np.isin(labs, [0, 1, 2])\n",
    "    if bad_mask.any():\n",
    "        bad_vals = np.unique(labs[bad_mask])\n",
    "        print(f\"  ⚠️  Found unexpected labels {bad_vals}. Showing first 5 rows:\")\n",
    "        print(arr[bad_mask][:5])      # x y z label 미리보기\n"
   ]
  },
  {
   "cell_type": "markdown",
   "id": "86d4119b",
   "metadata": {},
   "source": [
    "셀 ④ : 학습 설정 & 훈련"
   ]
  },
  {
   "cell_type": "code",
   "execution_count": 31,
   "id": "ce20307f",
   "metadata": {},
   "outputs": [
    {
     "name": "stdout",
     "output_type": "stream",
     "text": [
      "class counts : [ 3532.  3402. 22658.]\n",
      "loss weights : [2.8312570e-04 2.9394473e-04 4.4134522e-05]\n"
     ]
    },
    {
     "name": "stderr",
     "output_type": "stream",
     "text": [
      "Epoch:   1%|          | 1/100 [00:00<00:32,  3.08it/s]"
     ]
    },
    {
     "name": "stdout",
     "output_type": "stream",
     "text": [
      "  train loss 1.0812\n",
      "  val acc 0.1178\n",
      "  train loss 0.7253\n",
      "  val acc 0.1128\n"
     ]
    },
    {
     "name": "stderr",
     "output_type": "stream",
     "text": [
      "Epoch:   5%|▌         | 5/100 [00:00<00:10,  9.48it/s]"
     ]
    },
    {
     "name": "stdout",
     "output_type": "stream",
     "text": [
      "  train loss 0.5190\n",
      "  val acc 0.1183\n",
      "  train loss 0.4646\n",
      "  val acc 0.7155\n",
      "  train loss 0.3906\n",
      "  val acc 0.7808\n"
     ]
    },
    {
     "name": "stderr",
     "output_type": "stream",
     "text": [
      "Epoch:   7%|▋         | 7/100 [00:00<00:08, 11.13it/s]"
     ]
    },
    {
     "name": "stdout",
     "output_type": "stream",
     "text": [
      "  train loss 0.3765\n",
      "  val acc 0.7960\n",
      "  train loss 0.3307\n",
      "  val acc 0.7904\n",
      "  train loss 0.3071\n",
      "  val acc 0.7689\n"
     ]
    },
    {
     "name": "stderr",
     "output_type": "stream",
     "text": [
      "Epoch:  11%|█         | 11/100 [00:01<00:06, 12.76it/s]"
     ]
    },
    {
     "name": "stdout",
     "output_type": "stream",
     "text": [
      "  train loss 0.2852\n",
      "  val acc 0.7684\n",
      "  train loss 0.2631\n",
      "  val acc 0.7683\n",
      "  train loss 0.2503\n",
      "  val acc 0.7629\n"
     ]
    },
    {
     "name": "stderr",
     "output_type": "stream",
     "text": [
      "Epoch:  13%|█▎        | 13/100 [00:01<00:06, 13.24it/s]"
     ]
    },
    {
     "name": "stdout",
     "output_type": "stream",
     "text": [
      "  train loss 0.2314\n",
      "  val acc 0.7661\n",
      "  train loss 0.2158\n",
      "  val acc 0.7712\n",
      "  train loss 0.2114\n",
      "  val acc 0.7620\n"
     ]
    },
    {
     "name": "stderr",
     "output_type": "stream",
     "text": [
      "Epoch:  17%|█▋        | 17/100 [00:01<00:05, 14.10it/s]"
     ]
    },
    {
     "name": "stdout",
     "output_type": "stream",
     "text": [
      "  train loss 0.1958\n",
      "  val acc 0.7655\n",
      "  train loss 0.1740\n",
      "  val acc 0.7687\n",
      "  train loss 0.1724\n",
      "  val acc 0.7729\n",
      "  train loss 0.1621\n"
     ]
    },
    {
     "name": "stderr",
     "output_type": "stream",
     "text": [
      "Epoch:  21%|██        | 21/100 [00:01<00:05, 14.50it/s]"
     ]
    },
    {
     "name": "stdout",
     "output_type": "stream",
     "text": [
      "  val acc 0.7676\n",
      "  train loss 0.1589\n",
      "  val acc 0.7668\n",
      "  train loss 0.1489\n",
      "  val acc 0.7606\n",
      "  train loss 0.1490\n",
      "  val acc 0.7155\n"
     ]
    },
    {
     "name": "stderr",
     "output_type": "stream",
     "text": [
      "Epoch:  23%|██▎       | 23/100 [00:01<00:05, 14.58it/s]"
     ]
    },
    {
     "name": "stdout",
     "output_type": "stream",
     "text": [
      "  train loss 0.1309\n",
      "  val acc 0.7036\n",
      "  train loss 0.1317\n",
      "  val acc 0.7382\n",
      "  train loss 0.1241\n",
      "  val acc 0.6974\n"
     ]
    },
    {
     "name": "stderr",
     "output_type": "stream",
     "text": [
      "Epoch:  27%|██▋       | 27/100 [00:02<00:05, 13.91it/s]"
     ]
    },
    {
     "name": "stdout",
     "output_type": "stream",
     "text": [
      "  train loss 0.1162\n",
      "  val acc 0.7065\n",
      "  train loss 0.1215\n",
      "  val acc 0.7277\n",
      "  train loss 0.1227\n",
      "  val acc 0.6276\n"
     ]
    },
    {
     "name": "stderr",
     "output_type": "stream",
     "text": [
      "Epoch:  29%|██▉       | 29/100 [00:02<00:05, 13.89it/s]"
     ]
    },
    {
     "name": "stdout",
     "output_type": "stream",
     "text": [
      "  train loss 0.1162\n",
      "  val acc 0.6694\n",
      "  train loss 0.1172\n",
      "  val acc 0.7249\n",
      "  train loss 0.1156\n",
      "  val acc 0.6742\n"
     ]
    },
    {
     "name": "stderr",
     "output_type": "stream",
     "text": [
      "Epoch:  33%|███▎      | 33/100 [00:02<00:04, 13.42it/s]"
     ]
    },
    {
     "name": "stdout",
     "output_type": "stream",
     "text": [
      "  train loss 0.1213\n",
      "  val acc 0.7086\n",
      "  train loss 0.0957\n",
      "  val acc 0.7227\n",
      "  train loss 0.0982\n",
      "  val acc 0.7427\n"
     ]
    },
    {
     "name": "stderr",
     "output_type": "stream",
     "text": [
      "Epoch:  35%|███▌      | 35/100 [00:02<00:04, 13.09it/s]"
     ]
    },
    {
     "name": "stdout",
     "output_type": "stream",
     "text": [
      "  train loss 0.0946\n",
      "  val acc 0.7638\n",
      "  train loss 0.1023\n",
      "  val acc 0.8026\n",
      "  train loss 0.0862\n",
      "  val acc 0.7986\n"
     ]
    },
    {
     "name": "stderr",
     "output_type": "stream",
     "text": [
      "Epoch:  39%|███▉      | 39/100 [00:03<00:04, 12.92it/s]"
     ]
    },
    {
     "name": "stdout",
     "output_type": "stream",
     "text": [
      "  train loss 0.1003\n",
      "  val acc 0.7683\n",
      "  train loss 0.1006\n",
      "  val acc 0.7672\n",
      "  train loss 0.0940\n",
      "  val acc 0.7577\n"
     ]
    },
    {
     "name": "stderr",
     "output_type": "stream",
     "text": [
      "Epoch:  41%|████      | 41/100 [00:03<00:04, 13.11it/s]"
     ]
    },
    {
     "name": "stdout",
     "output_type": "stream",
     "text": [
      "  train loss 0.1008\n",
      "  val acc 0.7670\n",
      "  train loss 0.1019\n",
      "  val acc 0.7672\n",
      "  train loss 0.0757\n",
      "  val acc 0.7666\n"
     ]
    },
    {
     "name": "stderr",
     "output_type": "stream",
     "text": [
      "Epoch:  45%|████▌     | 45/100 [00:03<00:04, 13.09it/s]"
     ]
    },
    {
     "name": "stdout",
     "output_type": "stream",
     "text": [
      "  train loss 0.0864\n",
      "  val acc 0.7697\n",
      "  train loss 0.0811\n",
      "  val acc 0.7709\n",
      "  train loss 0.0950\n",
      "  val acc 0.7646\n"
     ]
    },
    {
     "name": "stderr",
     "output_type": "stream",
     "text": [
      "Epoch:  47%|████▋     | 47/100 [00:03<00:04, 13.18it/s]"
     ]
    },
    {
     "name": "stdout",
     "output_type": "stream",
     "text": [
      "  train loss 0.0846\n",
      "  val acc 0.7690\n",
      "  train loss 0.0823\n",
      "  val acc 0.7715\n",
      "  train loss 0.0756\n",
      "  val acc 0.7634\n"
     ]
    },
    {
     "name": "stderr",
     "output_type": "stream",
     "text": [
      "Epoch:  51%|█████     | 51/100 [00:03<00:03, 13.24it/s]"
     ]
    },
    {
     "name": "stdout",
     "output_type": "stream",
     "text": [
      "  train loss 0.0687\n",
      "  val acc 0.7673\n",
      "  train loss 0.0677\n",
      "  val acc 0.7850\n",
      "  train loss 0.0663\n",
      "  val acc 0.7969\n"
     ]
    },
    {
     "name": "stderr",
     "output_type": "stream",
     "text": [
      "Epoch:  53%|█████▎    | 53/100 [00:04<00:03, 13.26it/s]"
     ]
    },
    {
     "name": "stdout",
     "output_type": "stream",
     "text": [
      "  train loss 0.0706\n",
      "  val acc 0.7991\n",
      "  train loss 0.0589\n",
      "  val acc 0.7878\n",
      "  train loss 0.0695\n",
      "  val acc 0.8011\n"
     ]
    },
    {
     "name": "stderr",
     "output_type": "stream",
     "text": [
      "Epoch:  57%|█████▋    | 57/100 [00:04<00:03, 13.10it/s]"
     ]
    },
    {
     "name": "stdout",
     "output_type": "stream",
     "text": [
      "  train loss 0.0661\n",
      "  val acc 0.8566\n",
      "  train loss 0.0735\n",
      "  val acc 0.8015\n",
      "  train loss 0.0600\n",
      "  val acc 0.7872\n"
     ]
    },
    {
     "name": "stderr",
     "output_type": "stream",
     "text": [
      "Epoch:  59%|█████▉    | 59/100 [00:04<00:03, 13.05it/s]"
     ]
    },
    {
     "name": "stdout",
     "output_type": "stream",
     "text": [
      "  train loss 0.0715\n",
      "  val acc 0.7966\n",
      "  train loss 0.0653\n",
      "  val acc 0.8037\n",
      "  train loss 0.0591\n",
      "  val acc 0.8159\n"
     ]
    },
    {
     "name": "stderr",
     "output_type": "stream",
     "text": [
      "Epoch:  63%|██████▎   | 63/100 [00:04<00:02, 13.17it/s]"
     ]
    },
    {
     "name": "stdout",
     "output_type": "stream",
     "text": [
      "  train loss 0.0612\n",
      "  val acc 0.8055\n",
      "  train loss 0.0605\n",
      "  val acc 0.8361\n",
      "  train loss 0.0514\n",
      "  val acc 0.8615\n"
     ]
    },
    {
     "name": "stderr",
     "output_type": "stream",
     "text": [
      "Epoch:  65%|██████▌   | 65/100 [00:05<00:02, 13.23it/s]"
     ]
    },
    {
     "name": "stdout",
     "output_type": "stream",
     "text": [
      "  train loss 0.0615\n",
      "  val acc 0.8998\n",
      "  train loss 0.0801\n",
      "  val acc 0.8849\n",
      "  train loss 0.0718\n",
      "  val acc 0.8610\n"
     ]
    },
    {
     "name": "stderr",
     "output_type": "stream",
     "text": [
      "Epoch:  69%|██████▉   | 69/100 [00:05<00:02, 13.15it/s]"
     ]
    },
    {
     "name": "stdout",
     "output_type": "stream",
     "text": [
      "  train loss 0.0770\n",
      "  val acc 0.8236\n",
      "  train loss 0.0695\n",
      "  val acc 0.7928\n",
      "  train loss 0.0641\n",
      "  val acc 0.7406\n"
     ]
    },
    {
     "name": "stderr",
     "output_type": "stream",
     "text": [
      "Epoch:  71%|███████   | 71/100 [00:05<00:02, 13.07it/s]"
     ]
    },
    {
     "name": "stdout",
     "output_type": "stream",
     "text": [
      "  train loss 0.0623\n",
      "  val acc 0.6873\n",
      "  train loss 0.0516\n",
      "  val acc 0.6738\n",
      "  train loss 0.0605\n",
      "  val acc 0.6776\n"
     ]
    },
    {
     "name": "stderr",
     "output_type": "stream",
     "text": [
      "Epoch:  75%|███████▌  | 75/100 [00:05<00:01, 12.54it/s]"
     ]
    },
    {
     "name": "stdout",
     "output_type": "stream",
     "text": [
      "  train loss 0.0522\n",
      "  val acc 0.6500\n",
      "  train loss 0.0662\n",
      "  val acc 0.6128\n",
      "  train loss 0.0547\n",
      "  val acc 0.5676\n"
     ]
    },
    {
     "name": "stderr",
     "output_type": "stream",
     "text": [
      "Epoch:  77%|███████▋  | 77/100 [00:06<00:01, 12.18it/s]"
     ]
    },
    {
     "name": "stdout",
     "output_type": "stream",
     "text": [
      "  train loss 0.0549\n",
      "  val acc 0.5282\n",
      "  train loss 0.0561\n",
      "  val acc 0.4965\n",
      "  train loss 0.0554\n"
     ]
    },
    {
     "name": "stderr",
     "output_type": "stream",
     "text": [
      "Epoch:  79%|███████▉  | 79/100 [00:06<00:01, 11.92it/s]"
     ]
    },
    {
     "name": "stdout",
     "output_type": "stream",
     "text": [
      "  val acc 0.5931\n",
      "  train loss 0.0485\n",
      "  val acc 0.6497\n",
      "  train loss 0.0654\n",
      "  val acc 0.7803\n",
      "  train loss 0.0601\n"
     ]
    },
    {
     "name": "stderr",
     "output_type": "stream",
     "text": [
      "Epoch:  83%|████████▎ | 83/100 [00:06<00:01, 12.39it/s]"
     ]
    },
    {
     "name": "stdout",
     "output_type": "stream",
     "text": [
      "  val acc 0.9277\n",
      "  train loss 0.0611\n",
      "  val acc 0.9255\n",
      "  train loss 0.0595\n",
      "  val acc 0.8315\n",
      "  train loss 0.0595\n"
     ]
    },
    {
     "name": "stderr",
     "output_type": "stream",
     "text": [
      "Epoch:  85%|████████▌ | 85/100 [00:06<00:01, 12.10it/s]"
     ]
    },
    {
     "name": "stdout",
     "output_type": "stream",
     "text": [
      "  val acc 0.8170\n",
      "  train loss 0.0664\n",
      "  val acc 0.8026\n",
      "  train loss 0.0619\n",
      "  val acc 0.7933\n",
      "  train loss 0.0650\n"
     ]
    },
    {
     "name": "stderr",
     "output_type": "stream",
     "text": [
      "Epoch:  89%|████████▉ | 89/100 [00:06<00:00, 12.43it/s]"
     ]
    },
    {
     "name": "stdout",
     "output_type": "stream",
     "text": [
      "  val acc 0.7856\n",
      "  train loss 0.0480\n",
      "  val acc 0.8130\n",
      "  train loss 0.0586\n",
      "  val acc 0.8104\n",
      "  train loss 0.0653\n"
     ]
    },
    {
     "name": "stderr",
     "output_type": "stream",
     "text": [
      "Epoch:  91%|█████████ | 91/100 [00:07<00:00, 12.58it/s]"
     ]
    },
    {
     "name": "stdout",
     "output_type": "stream",
     "text": [
      "  val acc 0.8501\n",
      "  train loss 0.0792\n",
      "  val acc 0.9067\n",
      "  train loss 0.0605\n",
      "  val acc 0.8687\n",
      "  train loss 0.0570\n"
     ]
    },
    {
     "name": "stderr",
     "output_type": "stream",
     "text": [
      "Epoch:  95%|█████████▌| 95/100 [00:07<00:00, 12.66it/s]"
     ]
    },
    {
     "name": "stdout",
     "output_type": "stream",
     "text": [
      "  val acc 0.8344\n",
      "  train loss 0.0564\n",
      "  val acc 0.7961\n",
      "  train loss 0.0553\n",
      "  val acc 0.7354\n",
      "  train loss 0.0439\n"
     ]
    },
    {
     "name": "stderr",
     "output_type": "stream",
     "text": [
      "Epoch:  97%|█████████▋| 97/100 [00:07<00:00, 12.60it/s]"
     ]
    },
    {
     "name": "stdout",
     "output_type": "stream",
     "text": [
      "  val acc 0.7075\n",
      "  train loss 0.0530\n",
      "  val acc 0.6156\n",
      "  train loss 0.0517\n",
      "  val acc 0.5632\n"
     ]
    },
    {
     "name": "stderr",
     "output_type": "stream",
     "text": [
      "Epoch: 100%|██████████| 100/100 [00:07<00:00, 12.71it/s]"
     ]
    },
    {
     "name": "stdout",
     "output_type": "stream",
     "text": [
      "  train loss 0.0443\n",
      "  val acc 0.5768\n",
      "  train loss 0.0577\n",
      "  val acc 0.5809\n",
      "✅  seg_cylinder_3cls.pth 저장\n"
     ]
    },
    {
     "name": "stderr",
     "output_type": "stream",
     "text": [
      "\n"
     ]
    }
   ],
   "source": [
    "from tqdm import trange\n",
    "import torch, math\n",
    "\n",
    "device = torch.device(\"cuda\")\n",
    "model  = PointNetSeg(num_classes=3).to(device)\n",
    "\n",
    "# ----- 클래스 불균형 가중치 -----\n",
    "# ----- 클래스 불균형 가중치 (0 division 방지) -----\n",
    "cnts = np.bincount(\n",
    "    np.concatenate([np.loadtxt(f)[:,3].astype(int) for f in train_files]),\n",
    "    minlength=3\n",
    ").astype(float)\n",
    "\n",
    "# 0개 클래스 → 가중치 0 (또는 1) 로 설정\n",
    "cnts[cnts == 0] = np.inf        # 1/inf = 0  → Loss에서 해당 클래스 무시\n",
    "weights = torch.tensor(1.0 / cnts, dtype=torch.float32).to(device)\n",
    "\n",
    "criterion = torch.nn.CrossEntropyLoss(weight=weights)\n",
    "print(\"class counts :\", cnts)\n",
    "print(\"loss weights :\", weights.cpu().numpy())\n",
    "\n",
    "\n",
    "# ----- DataLoader -----\n",
    "train_loader = DataLoader(XYzcDataset(train_files), batch_size=2,\n",
    "                          shuffle=True, drop_last=False)\n",
    "val_loader   = DataLoader(XYzcDataset(train_files), batch_size=2,\n",
    "                          shuffle=False, drop_last=False)\n",
    "\n",
    "opt = torch.optim.Adam(model.parameters(), lr=1e-3)\n",
    "\n",
    "for epoch in trange(100, desc=\"Epoch\"):\n",
    "    model.train(); running=0\n",
    "    for xyz, label in train_loader:\n",
    "        xyz, label = xyz.to(device), label.to(device)\n",
    "        xyz = xyz.permute(0,2,1)\n",
    "        opt.zero_grad()\n",
    "        loss = criterion(model(xyz), label)\n",
    "        loss.backward(); opt.step()\n",
    "        running += loss.item()\n",
    "    print(f\"  train loss {running/len(train_loader):.4f}\")\n",
    "\n",
    "    # ---- 간단 검증 ----\n",
    "    model.eval(); correct=tot=0\n",
    "    with torch.no_grad():\n",
    "        for xyz, label in val_loader:\n",
    "            xyz, label = xyz.to(device), label.to(device)\n",
    "            pred = model(xyz.permute(0,2,1)).argmax(1)\n",
    "            correct += (pred==label).sum().item(); tot += label.numel()\n",
    "    print(f\"  val acc {correct/tot:.4f}\")\n",
    "\n",
    "torch.save(model.state_dict(), \"seg_cylinder_3cls.pth\")\n",
    "print(\"✅  seg_cylinder_3cls.pth 저장\")\n"
   ]
  },
  {
   "cell_type": "markdown",
   "id": "2fdddc32",
   "metadata": {},
   "source": [
    "셀 ⑤ : 원본 스캔 cylinder.xyz 추론 & 저장"
   ]
  },
  {
   "cell_type": "code",
   "execution_count": 32,
   "id": "35acd876",
   "metadata": {},
   "outputs": [
    {
     "name": "stdout",
     "output_type": "stream",
     "text": [
      "📝  cylinder_pred_new.xyzc 저장 (라벨 0·1·2)\n",
      "📝  cylinder_pred_new.ply 저장 (색으로 확인)\n"
     ]
    }
   ],
   "source": [
    "import open3d as o3d\n",
    "\n",
    "# ----- 모델 로드 -----\n",
    "model.load_state_dict(torch.load(\"seg_cylinder_3cls.pth\", map_location=device))\n",
    "model.eval()\n",
    "\n",
    "# ----- 입력 전처리 -----\n",
    "xyz_raw = np.loadtxt(\"cylinder.xyz\")[:, :3]\n",
    "xyz_norm = xyz_raw - xyz_raw.mean(0, keepdims=True)\n",
    "xyz_norm /= np.max(np.linalg.norm(xyz_norm, axis=1))\n",
    "\n",
    "with torch.no_grad():\n",
    "    pts = torch.from_numpy(xyz_norm).float().unsqueeze(0).to(device)  # (1,N,3)\n",
    "    pred = model(pts.permute(0,2,1)).argmax(1).cpu().numpy()[0]\n",
    "\n",
    "# ----- 저장 -----\n",
    "xyzc_out = np.hstack([xyz_raw, pred[:,None]])\n",
    "np.savetxt(\"cylinder_pred_new.xyzc\", xyzc_out, fmt=\"%.6f %.6f %.6f %d\")\n",
    "print(\"📝  cylinder_pred_new.xyzc 저장 (라벨 0·1·2)\")\n",
    "\n",
    "pc = o3d.geometry.PointCloud()\n",
    "pc.points = o3d.utility.Vector3dVector(xyz_raw)\n",
    "colors = np.array([[1,0,0],[0,1,0],[0,0,1]])\n",
    "pc.colors = o3d.utility.Vector3dVector(colors[pred])\n",
    "o3d.io.write_point_cloud(\"cylinder_pred_new.ply\", pc)\n",
    "print(\"📝  cylinder_pred_new.ply 저장 (색으로 확인)\")\n"
   ]
  }
 ],
 "metadata": {
  "kernelspec": {
   "display_name": "base",
   "language": "python",
   "name": "python3"
  },
  "language_info": {
   "codemirror_mode": {
    "name": "ipython",
    "version": 3
   },
   "file_extension": ".py",
   "mimetype": "text/x-python",
   "name": "python",
   "nbconvert_exporter": "python",
   "pygments_lexer": "ipython3",
   "version": "3.12.4"
  }
 },
 "nbformat": 4,
 "nbformat_minor": 5
}
