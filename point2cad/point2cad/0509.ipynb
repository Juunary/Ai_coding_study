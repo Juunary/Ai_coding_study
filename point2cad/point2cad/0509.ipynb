{
 "cells": [
  {
   "cell_type": "code",
   "execution_count": 3,
   "id": "581a3364",
   "metadata": {},
   "outputs": [
    {
     "name": "stdout",
     "output_type": "stream",
     "text": [
      "모든 파일을 합쳐서 저장 완료: ../assets/xyz/merged_imp_gpu_label.xyzc\n"
     ]
    }
   ],
   "source": [
    "import glob\n",
    "import numpy as np\n",
    "import re\n",
    "\n",
    "# 1) 파일 목록을 숫자 기준으로 정렬하기 위한 함수\n",
    "def extract_layer(fpath):\n",
    "    # 'imp' 다음에 나오는 숫자를 추출\n",
    "    m = re.search(r'imp(\\d+)_gpu_label', fpath)\n",
    "    return int(m.group(1)) if m else float('inf')\n",
    "\n",
    "# 2) glob 으로 뽑아온 뒤 숫자 기준으로 sort\n",
    "file_pattern = \"../assets/xyz/imp*_gpu_label*.xyzc\"\n",
    "file_list = glob.glob(file_pattern)\n",
    "file_list.sort(key=extract_layer)\n",
    "\n",
    "all_data = []\n",
    "for idx, fp in enumerate(file_list, start=1):\n",
    "    data = np.loadtxt(fp)          # (N,4) 배열\n",
    "    data[:, 3] = float(idx)        # 4번째 컬럼을 1.0, 2.0, … 로 덮어쓰기\n",
    "    all_data.append(data)\n",
    "\n",
    "if all_data:\n",
    "    merged = np.vstack(all_data)\n",
    "    output_path = \"../assets/xyz/merged_imp_gpu_label.xyzc\"\n",
    "    # 좌표는 e-표기, 레이어 값만 소수점 다섯 자리로 출력\n",
    "    fmt = ['%.18e', '%.18e', '%.18e', '%.5f']\n",
    "    np.savetxt(output_path, merged, fmt=fmt)\n",
    "    print(f\"모든 파일을 합쳐서 저장 완료: {output_path}\")\n",
    "else:\n",
    "    print(\"경고: 합칠 데이터가 없습니다. 파일 패턴을 확인하세요.\")\n"
   ]
  },
  {
   "cell_type": "code",
   "execution_count": 6,
   "id": "73d4dbba",
   "metadata": {},
   "outputs": [
    {
     "name": "stdout",
     "output_type": "stream",
     "text": [
      "모든 파일을 합쳐서 저장 완료: ../assets/xyz/merged_imp_gpu.xyz\n"
     ]
    }
   ],
   "source": [
    "import glob\n",
    "import numpy as np\n",
    "import re\n",
    "\n",
    "# 1) 파일 목록을 숫자 기준으로 정렬하기 위한 함수\n",
    "def extract_layer(fpath):\n",
    "    # 'imp' 다음에 나오는 숫자를 추출 (예: imp3_gpu.xyz → 3)\n",
    "    m = re.search(r'imp(\\d+)_gpu', fpath)\n",
    "    return int(m.group(1)) if m else float('inf')\n",
    "\n",
    "# 2) glob 으로 뽑아온 뒤 숫자 기준으로 sort\n",
    "file_pattern = \"../assets/xyz/imp*_gpu.xyz\"\n",
    "file_list = glob.glob(file_pattern)\n",
    "file_list.sort(key=extract_layer)\n",
    "\n",
    "all_data = []\n",
    "for fp in file_list:\n",
    "    data = np.loadtxt(fp)           # (N,3) 또는 (N,>=3) 배열\n",
    "    # 만약 레이어 컬럼이 섞여 있다면 첫 3열만 추출\n",
    "    if data.ndim == 2 and data.shape[1] > 3:\n",
    "        data = data[:, :3]\n",
    "    # 한 점만 있을 경우에도 2D 배열로 맞춰주기\n",
    "    if data.ndim == 1:\n",
    "        data = data[np.newaxis, :]\n",
    "    all_data.append(data)\n",
    "\n",
    "if all_data:\n",
    "    merged = np.vstack(all_data)\n",
    "    output_path = \"../assets/xyz/merged_imp_gpu.xyz\"\n",
    "    # x,y,z는 e-표기(소수점 18자리)\n",
    "    fmt = ['%.18e', '%.18e', '%.18e']\n",
    "    np.savetxt(output_path, merged, fmt=fmt)\n",
    "    print(f\"모든 파일을 합쳐서 저장 완료: {output_path}\")\n",
    "else:\n",
    "    print(\"경고: 합칠 데이터가 없습니다. 파일 패턴을 확인하세요.\")\n"
   ]
  },
  {
   "cell_type": "code",
   "execution_count": null,
   "id": "95c11e9d",
   "metadata": {},
   "outputs": [],
   "source": [
    "import torch\n",
    "import torch.nn as nn\n",
    "import torch.optim as optim\n",
    "from ply.PointNet_seg import PointNetSeg  # 또는 PointNetImpellerSeg\n",
    "\n",
    "model = PointNetSeg(num_classes=3).to(device)\n",
    "criterion = nn.CrossEntropyLoss()\n",
    "optimizer = optim.Adam(model.parameters(), lr=0.001)\n",
    "\n",
    "for epoch in range(1000):  # 충분히 과적합\n",
    "    for xyz_file, label_file in dataset:\n",
    "        points = torch.tensor(np.loadtxt(xyz_file)).float().to(device)  # (N, 3)\n",
    "        labels = torch.tensor(np.load(label_file)).long().to(device)    # (N,)\n",
    "\n",
    "        points = points.T.unsqueeze(0)  # (1, 3, N)\n",
    "        labels = labels.unsqueeze(0)    # (1, N)\n",
    "\n",
    "        pred = model(points)  # (1, C, N)\n",
    "        loss = criterion(pred.squeeze(0), labels.squeeze(0))\n",
    "\n",
    "        optimizer.zero_grad()\n",
    "        loss.backward()\n",
    "        optimizer.step()\n"
   ]
  }
 ],
 "metadata": {
  "kernelspec": {
   "display_name": "base",
   "language": "python",
   "name": "python3"
  },
  "language_info": {
   "codemirror_mode": {
    "name": "ipython",
    "version": 3
   },
   "file_extension": ".py",
   "mimetype": "text/x-python",
   "name": "python",
   "nbconvert_exporter": "python",
   "pygments_lexer": "ipython3",
   "version": "3.12.4"
  }
 },
 "nbformat": 4,
 "nbformat_minor": 5
}
