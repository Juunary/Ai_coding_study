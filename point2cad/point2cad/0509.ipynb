{
 "cells": [
  {
   "cell_type": "code",
   "execution_count": 3,
   "id": "581a3364",
   "metadata": {},
   "outputs": [
    {
     "name": "stdout",
     "output_type": "stream",
     "text": [
      "모든 파일을 합쳐서 저장 완료: ../assets/xyz/merged_imp_gpu_label.xyzc\n"
     ]
    }
   ],
   "source": [
    "import glob\n",
    "import numpy as np\n",
    "import re\n",
    "\n",
    "# 1) 파일 목록을 숫자 기준으로 정렬하기 위한 함수\n",
    "def extract_layer(fpath):\n",
    "    # 'imp' 다음에 나오는 숫자를 추출\n",
    "    m = re.search(r'imp(\\d+)_gpu_label', fpath)\n",
    "    return int(m.group(1)) if m else float('inf')\n",
    "\n",
    "# 2) glob 으로 뽑아온 뒤 숫자 기준으로 sort\n",
    "file_pattern = \"../assets/xyz/imp*_gpu_label*.xyzc\"\n",
    "file_list = glob.glob(file_pattern)\n",
    "file_list.sort(key=extract_layer)\n",
    "\n",
    "all_data = []\n",
    "for idx, fp in enumerate(file_list, start=1):\n",
    "    data = np.loadtxt(fp)          # (N,4) 배열\n",
    "    data[:, 3] = float(idx)        # 4번째 컬럼을 1.0, 2.0, … 로 덮어쓰기\n",
    "    all_data.append(data)\n",
    "\n",
    "if all_data:\n",
    "    merged = np.vstack(all_data)\n",
    "    output_path = \"../assets/xyz/merged_imp_gpu_label.xyzc\"\n",
    "    # 좌표는 e-표기, 레이어 값만 소수점 다섯 자리로 출력\n",
    "    fmt = ['%.18e', '%.18e', '%.18e', '%.5f']\n",
    "    np.savetxt(output_path, merged, fmt=fmt)\n",
    "    print(f\"모든 파일을 합쳐서 저장 완료: {output_path}\")\n",
    "else:\n",
    "    print(\"경고: 합칠 데이터가 없습니다. 파일 패턴을 확인하세요.\")\n"
   ]
  },
  {
   "cell_type": "code",
   "execution_count": 3,
   "id": "73d4dbba",
   "metadata": {},
   "outputs": [
    {
     "name": "stdout",
     "output_type": "stream",
     "text": [
      "imp001~imp026 .xyz 파일을 합쳐서 저장 완료: ../assets/xyz/merged_imp_gpu.xyz\n"
     ]
    }
   ],
   "source": [
    "import glob\n",
    "import numpy as np\n",
    "import re\n",
    "import os\n",
    "\n",
    "# imp001~imp026 번호를 추출\n",
    "def extract_layer(fpath):\n",
    "    name = os.path.basename(fpath)\n",
    "    m = re.match(r'imp0*([1-9]|1\\d|2[0-6])_gpu\\.xyz$', name)\n",
    "    if not m:\n",
    "        return None\n",
    "    return int(m.group(1))\n",
    "\n",
    "# 1) glob 으로 imp*_gpu.xyz 전부 뽑고\n",
    "raw_list = glob.glob(\"../assets/xyz/imp*_gpu.xyz\")\n",
    "\n",
    "# 2) 번호가 1~26인 것만 필터링\n",
    "file_list = []\n",
    "for fp in raw_list:\n",
    "    layer = extract_layer(fp)\n",
    "    if layer is not None and 1 <= layer <= 26:\n",
    "        file_list.append((layer, fp))\n",
    "\n",
    "# 3) 번호 순으로 정렬\n",
    "file_list.sort(key=lambda x: x[0])\n",
    "\n",
    "all_data = []\n",
    "for _, fp in file_list:\n",
    "    data = np.loadtxt(fp)\n",
    "    # 혹시 3열 이상이면 x,y,z만\n",
    "    if data.ndim == 2 and data.shape[1] > 3:\n",
    "        data = data[:, :3]\n",
    "    elif data.ndim == 1:\n",
    "        data = data[np.newaxis, :]\n",
    "    all_data.append(data)\n",
    "\n",
    "if all_data:\n",
    "    merged = np.vstack(all_data)\n",
    "    output_path = \"../assets/xyz/merged_imp_gpu.xyz\"\n",
    "    fmt = ['%.18e', '%.18e', '%.18e']\n",
    "    np.savetxt(output_path, merged, fmt=fmt)\n",
    "    print(f\"imp001~imp026 .xyz 파일을 합쳐서 저장 완료: {output_path}\")\n",
    "else:\n",
    "    print(\"경고: imp001~imp026 .xyz 파일을 찾을 수 없습니다.\")\n"
   ]
  },
  {
   "cell_type": "code",
   "execution_count": null,
   "id": "95c11e9d",
   "metadata": {},
   "outputs": [],
   "source": [
    "import torch\n",
    "import torch.nn as nn\n",
    "import torch.optim as optim\n",
    "from ply.PointNet_seg import PointNetSeg  # 또는 PointNetImpellerSeg\n",
    "\n",
    "model = PointNetSeg(num_classes=3).to(device)\n",
    "criterion = nn.CrossEntropyLoss()\n",
    "optimizer = optim.Adam(model.parameters(), lr=0.001)\n",
    "\n",
    "for epoch in range(1000):  # 충분히 과적합\n",
    "    for xyz_file, label_file in dataset:\n",
    "        points = torch.tensor(np.loadtxt(xyz_file)).float().to(device)  # (N, 3)\n",
    "        labels = torch.tensor(np.load(label_file)).long().to(device)    # (N,)\n",
    "\n",
    "        points = points.T.unsqueeze(0)  # (1, 3, N)\n",
    "        labels = labels.unsqueeze(0)    # (1, N)\n",
    "\n",
    "        pred = model(points)  # (1, C, N)\n",
    "        loss = criterion(pred.squeeze(0), labels.squeeze(0))\n",
    "\n",
    "        optimizer.zero_grad()\n",
    "        loss.backward()\n",
    "        optimizer.step()\n"
   ]
  }
 ],
 "metadata": {
  "kernelspec": {
   "display_name": "base",
   "language": "python",
   "name": "python3"
  },
  "language_info": {
   "codemirror_mode": {
    "name": "ipython",
    "version": 3
   },
   "file_extension": ".py",
   "mimetype": "text/x-python",
   "name": "python",
   "nbconvert_exporter": "python",
   "pygments_lexer": "ipython3",
   "version": "3.12.4"
  }
 },
 "nbformat": 4,
 "nbformat_minor": 5
}
