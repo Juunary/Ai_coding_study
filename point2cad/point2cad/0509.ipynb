{
 "cells": [
  {
   "cell_type": "code",
   "execution_count": null,
   "id": "581a3364",
   "metadata": {},
   "outputs": [
    {
     "name": "stdout",
     "output_type": "stream",
     "text": [
      "모든 파일을 합쳐서 저장 완료: ../assets/xyz/merged_imp_gpu_label.xyzc\n"
     ]
    }
   ],
   "source": [
    "import glob\n",
    "import numpy as np\n",
    "\n",
    "# 파일 경로 패턴 지정\n",
    "file_pattern = \"../assets/xyz/imp*_gpu_label*.xyzc\"\n",
    "file_list = sorted(glob.glob(file_pattern))\n",
    "\n",
    "# 모든 파일의 데이터를 순서대로 합치기\n",
    "all_data = []\n",
    "for file_path in file_list:\n",
    "    data = np.loadtxt(file_path)\n",
    "    all_data.append(data)\n",
    "\n",
    "if all_data:\n",
    "    merged_data = np.vstack(all_data)\n",
    "    # 합쳐진 데이터를 저장\n",
    "    output_path = \"../assets/xyz/merged_imp_gpu_label.xyzc\"\n",
    "    np.savetxt(output_path, merged_data, fmt=\"%.18e\")\n",
    "    print(f\"모든 파일을 합쳐서 저장 완료: {output_path}\")\n",
    "else:\n",
    "    print(\"경고: 합칠 데이터가 없습니다. 파일 패턴을 확인하세요.\")"
   ]
  }
 ],
 "metadata": {
  "kernelspec": {
   "display_name": "base",
   "language": "python",
   "name": "python3"
  },
  "language_info": {
   "codemirror_mode": {
    "name": "ipython",
    "version": 3
   },
   "file_extension": ".py",
   "mimetype": "text/x-python",
   "name": "python",
   "nbconvert_exporter": "python",
   "pygments_lexer": "ipython3",
   "version": "3.12.4"
  }
 },
 "nbformat": 4,
 "nbformat_minor": 5
}
