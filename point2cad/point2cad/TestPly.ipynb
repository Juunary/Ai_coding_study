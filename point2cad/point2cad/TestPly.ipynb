{
 "cells": [
  {
   "cell_type": "markdown",
   "id": "8e2c9f7e",
   "metadata": {},
   "source": [
    "# 노멀라이제이션"
   ]
  },
  {
   "cell_type": "code",
   "execution_count": null,
   "id": "48f488c6",
   "metadata": {},
   "outputs": [],
   "source": [
    "import open3d as o3d\n",
    "import numpy as np\n",
    "import argparse\n",
    "import os\n",
    "\n",
    "def normalize_points(points):\n",
    "    EPS = np.finfo(np.float32).eps\n",
    "    # 중심 정렬\n",
    "    points -= np.mean(points, axis=0, keepdims=True)\n",
    "    # PCA 회전\n",
    "    cov = np.cov(points.T)\n",
    "    eigvals, eigvecs = np.linalg.eigh(cov)\n",
    "    rotation = eigvecs\n",
    "    points = points @ rotation\n",
    "    # 크기 정규화\n",
    "    scale = np.max(points.max(axis=0) - points.min(axis=0)) + EPS\n",
    "    points /= scale\n",
    "    return points\n",
    "\n",
    "def normalize_ply(path_in, path_out=None):\n",
    "    mesh = o3d.io.read_triangle_mesh(path_in)\n",
    "    if not mesh.has_vertices():\n",
    "        raise ValueError(\"메시에 유효한 vertex 정보가 없습니다.\")\n",
    "\n",
    "    points = np.asarray(mesh.vertices)\n",
    "    norm_points = normalize_points(points)\n",
    "    mesh.vertices = o3d.utility.Vector3dVector(norm_points)\n",
    "\n",
    "    if path_out is None:\n",
    "        base, ext = os.path.splitext(path_in)\n",
    "        path_out = base + \"_normalized.ply\"\n",
    "\n",
    "    o3d.io.write_triangle_mesh(path_out, mesh)\n",
    "    print(f\"[✓] 정규화된 파일 저장 완료: {path_out}\")\n",
    "\n",
    "if __name__ == \"__main__\":\n",
    "    parser = argparse.ArgumentParser(description=\"PLY 정규화 및 저장 스크립트\")\n",
    "    parser.add_argument(\"--path_in\", required=True, help=\"입력 PLY 파일 경로\")\n",
    "    parser.add_argument(\"--path_out\", help=\"출력 PLY 파일 경로 (선택)\")\n",
    "    args = parser.parse_args()\n",
    "\n",
    "    normalize_ply(args.path_in, args.path_out)\n"
   ]
  },
  {
   "cell_type": "markdown",
   "id": "137a1027",
   "metadata": {},
   "source": [
    "## 공통: Import 및 로더/전처리 함수"
   ]
  },
  {
   "cell_type": "code",
   "execution_count": 1,
   "id": "b62e23be",
   "metadata": {},
   "outputs": [
    {
     "name": "stdout",
     "output_type": "stream",
     "text": [
      "Jupyter environment detected. Enabling Open3D WebVisualizer.\n",
      "[Open3D INFO] WebRTC GUI backend enabled.\n",
      "[Open3D INFO] WebRTCWindowSystem: HTTP handshake server disabled.\n"
     ]
    }
   ],
   "source": [
    "\n",
    "import open3d as o3d\n",
    "import numpy as np\n",
    "\n",
    "def load_and_process_ply(path, scale=100.0, shift_x=0.0, rotate_deg_x=0.0):\n",
    "    \"\"\"\n",
    "    PLY 파일을 로드하고, 스케일/이동/회전을 적용합니다.\n",
    "    - scale: 좌표 단위 환산용 (예: m→mm 환산 전 임시 100배 등)\n",
    "    - shift_x: X축 방향 평행이동\n",
    "    - rotate_deg_x: X축 기준 회전 (deg)\n",
    "    \"\"\"\n",
    "    mesh = o3d.io.read_triangle_mesh(path)\n",
    "    if mesh.is_empty():\n",
    "        raise ValueError(f\"메쉬가 비어있습니다: {path}\")\n",
    "    mesh.compute_vertex_normals()\n",
    "    mesh.scale(scale, center=(0, 0, 0))\n",
    "    mesh.translate((shift_x, 0, 0))\n",
    "    if rotate_deg_x != 0.0:\n",
    "        radians = np.deg2rad(rotate_deg_x)\n",
    "        R = mesh.get_rotation_matrix_from_axis_angle([radians, 0, 0])\n",
    "        mesh.rotate(R, center=(0, 0, 0))\n",
    "    return mesh\n"
   ]
  },
  {
   "cell_type": "markdown",
   "id": "7e1de2a3",
   "metadata": {},
   "source": [
    "## 경로 / 변환 파라미터 설정"
   ]
  },
  {
   "cell_type": "code",
   "execution_count": null,
   "id": "e3c9a16f",
   "metadata": {},
   "outputs": [
    {
     "name": "stdout",
     "output_type": "stream",
     "text": [
      "메쉬 로드 완료:\n",
      " - mesh1(복원) 삼각형: 132683\n",
      " - mesh2(원본)  삼각형: 1916\n"
     ]
    }
   ],
   "source": [
    "\n",
    "# 입력 PLY 경로\n",
    "PATH1 = \"../assets/ply/mesh_merged_imp_gpu_impeller_pred2.ply\"  # 복원 메쉬\n",
    "PATH2 = \"../assets/ply/0807_normalized.ply\"      # 원본 메쉬\n",
    "\n",
    "# 공통 전처리 파라미터\n",
    "SCALE      = 100.0      # 임시 스케일 (후에 mm 환산 복원)\n",
    "SHIFT_X    = 6.95       # X축 평행이동 (필요 시 0.0으로)\n",
    "ROT_X_DEG1 = 11.8       # 복원 메쉬의 X축 회전 (deg)\n",
    "ROT_X_DEG2 = 0.0        # 원본 메쉬의 X축 회전 (deg)\n",
    "\n",
    "# 로드 & 전처리\n",
    "mesh1 = load_and_process_ply(PATH1, scale=SCALE, shift_x=SHIFT_X, rotate_deg_x=ROT_X_DEG1)\n",
    "mesh2 = load_and_process_ply(PATH2, scale=SCALE, shift_x=0.0,     rotate_deg_x=ROT_X_DEG2)\n",
    "\n",
    "print(\"메쉬 로드 완료:\")\n",
    "print(\" - mesh1(복원) 삼각형:\", np.asarray(mesh1.triangles).shape[0])\n",
    "print(\" - mesh2(원본)  삼각형:\", np.asarray(mesh2.triangles).shape[0])\n"
   ]
  },
  {
   "cell_type": "markdown",
   "id": "b6735ecf",
   "metadata": {},
   "source": [
    "# 절대 위치 / 상대 위치 / 길이 측정"
   ]
  },
  {
   "cell_type": "code",
   "execution_count": 11,
   "id": "2afa358b",
   "metadata": {},
   "outputs": [],
   "source": [
    "import numpy as np\n",
    "import open3d as o3d\n",
    "\n",
    "def _deg_from_rotmat(R):\n",
    "    # 두 회전행렬 사이 각도(라디안→도)\n",
    "    # (수치오차로 trace가 살짝 벗어날 수 있어 clip)\n",
    "    t = np.clip((np.trace(R) - 1) / 2, -1.0, 1.0)\n",
    "    return np.degrees(np.arccos(t))\n",
    "\n",
    "def compute_absolute_position_accuracy(mesh1, mesh2, scale=SCALE):\n",
    "    aabb1, aabb2 = mesh1.get_axis_aligned_bounding_box(), mesh2.get_axis_aligned_bounding_box()\n",
    "    min_diff_mm = (aabb1.get_min_bound() - aabb2.get_min_bound()) / scale\n",
    "    max_diff_mm = (aabb1.get_max_bound() - aabb2.get_max_bound()) / scale\n",
    "\n",
    "    c1 = np.asarray(aabb1.get_center())\n",
    "    c2 = np.asarray(aabb2.get_center())\n",
    "    trans_vec_mm = (c1 - c2) / scale\n",
    "\n",
    "    # 추가: 표 기준용 평균/최대 오차(축 기준)\n",
    "    abs_mean_mm = np.mean(np.abs(trans_vec_mm))\n",
    "    abs_max_mm  = np.max(np.abs(trans_vec_mm))\n",
    "\n",
    "    # 기존: 축평균 RMS (참고용)\n",
    "    trans_rmse_mm = np.sqrt(np.mean(trans_vec_mm**2))\n",
    "\n",
    "    # 자세(참고)\n",
    "    obb1, obb2 = mesh1.get_oriented_bounding_box(), mesh2.get_oriented_bounding_box()\n",
    "    R1, R2 = obb1.R, obb2.R\n",
    "    R_rel = R2.T @ R1\n",
    "    rot_err_deg = _deg_from_rotmat(R_rel)\n",
    "\n",
    "    return {\n",
    "        \"translation_vector_mm\": trans_vec_mm,\n",
    "        \"translation_rmse_mm\": trans_rmse_mm,\n",
    "        \"abs_mean_mm\": abs_mean_mm,   # ▶ 절대 위치 평균오차(축 기준)\n",
    "        \"abs_max_mm\":  abs_max_mm,    # ▶ 절대 위치 최대오차(축 기준)\n",
    "        \"aabb_min_diff_mm\": min_diff_mm,\n",
    "        \"aabb_max_diff_mm\": max_diff_mm,\n",
    "        \"rotation_error_deg\": rot_err_deg\n",
    "    }\n",
    "\n",
    "def compute_relative_length_accuracy(mesh1, mesh2, scale=SCALE, use_obb=True):\n",
    "    \"\"\"\n",
    "    상대 길이(크기) 정확도: 위치/자세 무시하고 '치수'만 비교\n",
    "    - 기본: OBB의 세 변 길이 비교(회전 불변, 형상 자오선 기준)\n",
    "    - 옵션: AABB 치수 비교(간단하지만 회전에 민감)\n",
    "    \"\"\"\n",
    "    if use_obb:\n",
    "        b1, b2 = mesh1.get_oriented_bounding_box(), mesh2.get_oriented_bounding_box()\n",
    "        size1, size2 = b1.extent, b2.extent            # [Lx, Ly, Lz]\n",
    "    else:\n",
    "        b1, b2 = mesh1.get_axis_aligned_bounding_box(), mesh2.get_axis_aligned_bounding_box()\n",
    "        size1, size2 = b1.get_extent(), b2.get_extent()\n",
    "\n",
    "    size1_mm = size1 / scale\n",
    "    size2_mm = size2 / scale\n",
    "    diff_mm  = np.abs(size1_mm - size2_mm)\n",
    "\n",
    "    # 면적 비교(동일 스케일 복원 규칙)\n",
    "    area1_mm2 = mesh1.get_surface_area() / (scale * scale)\n",
    "    area2_mm2 = mesh2.get_surface_area() / (scale * scale)\n",
    "\n",
    "    out = {\n",
    "        \"size1_mm\": size1_mm,            # [Lx, Ly, Lz]\n",
    "        \"size2_mm\": size2_mm,\n",
    "        \"size_abs_diff_mm\": diff_mm,     # per-axis |Δ|\n",
    "        \"area1_mm2\": area1_mm2,\n",
    "        \"area2_mm2\": area2_mm2\n",
    "    }\n",
    "    return out\n",
    "\n",
    "def print_absolute_position_report(res_abs,\n",
    "                                   thresh_mean_mm=0.10,  # 표: 평균 0.1mm\n",
    "                                   thresh_max_mm=0.30):  # 표: 최대 0.3mm\n",
    "    dx, dy, dz = res_abs[\"translation_vector_mm\"]\n",
    "    print(\"\\n— 절대 위치 정확도 —\")\n",
    "    print(f\"중심 오프셋 [mm]: dx={dx:.4f}, dy={dy:.4f}, dz={dz:.4f}\")\n",
    "    print(f\"평균오차[mm](축기준): {res_abs['abs_mean_mm']:.4f} → {'o' if res_abs['abs_mean_mm']<=thresh_mean_mm else '❌'} (≤{thresh_mean_mm}mm)\")\n",
    "    print(f\"최대오차[mm](축기준): {res_abs['abs_max_mm']:.4f} → {'o' if res_abs['abs_max_mm']<=thresh_max_mm else '❌'} (≤{thresh_max_mm}mm)\")\n",
    "    print(f\"(참고) RMS[mm]: {res_abs['translation_rmse_mm']:.4f}\")\n",
    "    mn = res_abs[\"aabb_min_diff_mm\"]; mx = res_abs[\"aabb_max_diff_mm\"]\n",
    "    print(f\"AABB min 코너 차이[mm]: {mn[0]:.4f}, {mn[1]:.4f}, {mn[2]:.4f}\")\n",
    "    print(f\"AABB max 코너 차이[mm]: {mx[0]:.4f}, {mx[1]:.4f}, {mx[2]:.4f}\")\n",
    "\n",
    "def compute_relative_position_accuracy_icp(mesh1, mesh2, scale=SCALE,\n",
    "                                           n_points=20000, icp_thresh_mm=1.0):\n",
    "    # 1) 메쉬 → 포인트샘플\n",
    "    pcd1 = mesh1.sample_points_uniformly(number_of_points=n_points)  # ← fix\n",
    "    pcd2 = mesh2.sample_points_uniformly(number_of_points=n_points)  # ← fix\n",
    "\n",
    "    # 2) 초기 정렬: AABB 중심 일치\n",
    "    T0 = np.eye(4)\n",
    "    T0[:3, 3] = (mesh2.get_axis_aligned_bounding_box().get_center()\n",
    "                 - mesh1.get_axis_aligned_bounding_box().get_center())\n",
    "    pcd1.transform(T0)  # in-place\n",
    "\n",
    "    # 3) ICP (point-to-point)\n",
    "    threshold = icp_thresh_mm * scale\n",
    "    result = o3d.pipelines.registration.registration_icp(\n",
    "        pcd1, pcd2, threshold, np.eye(4),\n",
    "        o3d.pipelines.registration.TransformationEstimationPointToPoint()\n",
    "    )\n",
    "    pcd1.transform(result.transformation)\n",
    "\n",
    "    # 4) 정합 후 잔차 (양방향)\n",
    "    d12 = np.asarray(pcd1.compute_point_cloud_distance(pcd2)) / scale  # mm\n",
    "    d21 = np.asarray(pcd2.compute_point_cloud_distance(pcd1)) / scale  # mm\n",
    "    d = np.concatenate([d12, d21])\n",
    "\n",
    "    return {\n",
    "        \"rel_mean_mm\": float(np.mean(d)),\n",
    "        \"rel_max_mm\":  float(np.max(d)),\n",
    "    }\n",
    "\n",
    "def print_relative_length_report(res_len, threshold_len_mm=0.05, label=\"(OBB 치수)\"):\n",
    "    d = res_len[\"size_abs_diff_mm\"]\n",
    "    print(\"\\n— 상대 길이(크기) 정확도 —\", label)\n",
    "    print(f\"크기1 [mm] : {res_len['size1_mm'][0]:.3f}, {res_len['size1_mm'][1]:.3f}, {res_len['size1_mm'][2]:.3f}\")\n",
    "    print(f\"크기2 [mm] : {res_len['size2_mm'][0]:.3f}, {res_len['size2_mm'][1]:.3f}, {res_len['size2_mm'][2]:.3f}\")\n",
    "    print(f\"|Δ|   [mm] : {d[0]:.4f}, {d[1]:.4f}, {d[2]:.4f}\")\n",
    "    marks = [\"o\" if x <= threshold_len_mm else \"❌\" for x in d]\n",
    "    print(f\"축별 기준(±{threshold_len_mm}mm): {' '.join(marks)}\")\n",
    "    print(f\"면적 비교  : A={res_len['area1_mm2']:.3f} mm² / B={res_len['area2_mm2']:.3f} mm²\")\n",
    "\n",
    "def print_relative_position_report(res_rel, mean_thr=0.05, max_thr=0.10):\n",
    "    print(\"\\n— 상대 위치 정확도(정합 후 잔차) —\")\n",
    "    m, M = res_rel[\"rel_mean_mm\"], res_rel[\"rel_max_mm\"]\n",
    "    print(f\"평균오차[mm]: {m:.4f} → {'o' if m<=mean_thr else '❌'} (≤{mean_thr}mm)\")\n",
    "    print(f\"최대오차[mm]: {M:.4f} → {'o' if M<=max_thr else '❌'} (≤{max_thr}mm)\")\n"
   ]
  },
  {
   "cell_type": "code",
   "execution_count": 12,
   "id": "fc2cb786",
   "metadata": {},
   "outputs": [
    {
     "name": "stdout",
     "output_type": "stream",
     "text": [
      "\n",
      "— 절대 위치 정확도 —\n",
      "중심 오프셋 [mm]: dx=-0.0004, dy=-0.0003, dz=0.0000\n",
      "평균오차[mm](축기준): 0.0002 → o (≤0.1mm)\n",
      "최대오차[mm](축기준): 0.0004 → o (≤0.3mm)\n",
      "(참고) RMS[mm]: 0.0003\n",
      "AABB min 코너 차이[mm]: -0.0014, 0.0001, 0.0003\n",
      "AABB max 코너 차이[mm]: 0.0006, -0.0006, -0.0003\n",
      "\n",
      "— 상대 위치 정확도(정합 후 잔차) —\n",
      "평균오차[mm]: 0.0072 → o (≤0.05mm)\n",
      "최대오차[mm]: 0.0288 → o (≤0.1mm)\n",
      "\n",
      "— 상대 길이(크기) 정확도 — (OBB 치수)\n",
      "크기1 [mm] : 0.995, 0.999, 0.460\n",
      "크기2 [mm] : 1.000, 1.000, 0.455\n",
      "|Δ|   [mm] : 0.0057, 0.0007, 0.0058\n",
      "축별 기준(±0.05mm): o o o\n",
      "면적 비교  : A=4.059 mm² / B=3.900 mm²\n"
     ]
    }
   ],
   "source": [
    "\n",
    "\n",
    "res_abs = compute_absolute_position_accuracy(mesh1, mesh2, scale=SCALE)\n",
    "print_absolute_position_report(res_abs, thresh_mean_mm=0.10, thresh_max_mm=0.30)  # 표 기준\n",
    "\n",
    "res_rel = compute_relative_position_accuracy_icp(mesh1, mesh2, scale=SCALE, n_points=20000, icp_thresh_mm=1.0)\n",
    "print_relative_position_report(res_rel, mean_thr=0.05, max_thr=0.10)               # 표 기준\n",
    "\n",
    "res_len_obb  = compute_relative_length_accuracy(mesh1, mesh2, scale=SCALE, use_obb=True)\n",
    "print_relative_length_report(res_len_obb,  threshold_len_mm=0.05, label=\"(OBB 치수)\")"
   ]
  },
  {
   "cell_type": "markdown",
   "id": "a46fef05",
   "metadata": {},
   "source": [
    "# 기하학적 정확도"
   ]
  },
  {
   "cell_type": "code",
   "execution_count": 6,
   "id": "79229b42",
   "metadata": {},
   "outputs": [
    {
     "name": "stdout",
     "output_type": "stream",
     "text": [
      "— 기하학적 정확도 —\n",
      "RMSE              : 0.0113 mm\n",
      "Chamfer Distance  : 0.0099 mm → o 기준 만족\n",
      "Hausdorff Distance: 0.0325 mm → o 기준 만족\n"
     ]
    }
   ],
   "source": [
    "\n",
    "def compute_rmse_distance(mesh1, mesh2, n_points=10000):\n",
    "    pcd1 = mesh1.sample_points_uniformly(number_of_points=n_points)\n",
    "    pcd2 = mesh2.sample_points_uniformly(number_of_points=n_points)\n",
    "    d1 = np.asarray(pcd1.compute_point_cloud_distance(pcd2))\n",
    "    d2 = np.asarray(pcd2.compute_point_cloud_distance(pcd1))\n",
    "    rmse = np.sqrt((np.mean(d1 ** 2) + np.mean(d2 ** 2)) / 2)\n",
    "    return rmse\n",
    "\n",
    "def compute_geometric_accuracy(mesh1, mesh2, n_points=10000):\n",
    "    pcd1 = mesh1.sample_points_uniformly(number_of_points=n_points)\n",
    "    pcd2 = mesh2.sample_points_uniformly(number_of_points=n_points)\n",
    "    d1 = np.asarray(pcd1.compute_point_cloud_distance(pcd2))\n",
    "    d2 = np.asarray(pcd2.compute_point_cloud_distance(pcd1))\n",
    "    chamfer = (np.mean(d1) + np.mean(d2)) / 2\n",
    "    hausdorff = max(np.max(d1), np.max(d2))\n",
    "    return chamfer, hausdorff\n",
    "\n",
    "rmse = compute_rmse_distance(mesh1, mesh2)\n",
    "chamfer, hausdorff = compute_geometric_accuracy(mesh1, mesh2)\n",
    "\n",
    "# 스케일 복원 (길이계열 → ÷SCALE)\n",
    "rmse_mm      = rmse / SCALE\n",
    "chamfer_mm   = chamfer / SCALE\n",
    "hausdorff_mm = hausdorff / SCALE\n",
    "\n",
    "print(\"— 기하학적 정확도 —\")\n",
    "print(f\"RMSE              : {rmse_mm:.4f} mm\")\n",
    "print(f\"Chamfer Distance  : {chamfer_mm:.4f} mm → {'o 기준 만족' if chamfer_mm <= 0.1 else '❌ 기준 초과'}\")\n",
    "print(f\"Hausdorff Distance: {hausdorff_mm:.4f} mm → {'o 기준 만족' if hausdorff_mm <= 0.2 else '❌ 기준 초과'}\")\n"
   ]
  },
  {
   "cell_type": "markdown",
   "id": "23440351",
   "metadata": {},
   "source": [
    "# 표면 일치도"
   ]
  },
  {
   "cell_type": "code",
   "execution_count": 7,
   "id": "34cd9a51",
   "metadata": {},
   "outputs": [
    {
     "name": "stdout",
     "output_type": "stream",
     "text": [
      "— 표면 일치도 —\n",
      "평균 오차: 0.0101 mm (참고용)\n",
      "최대 오차: 0.0316 mm → o\n"
     ]
    }
   ],
   "source": [
    "\n",
    "def compute_surface_matching_accuracy(source_mesh, target_mesh, n_points=10000):\n",
    "    pcd_s = source_mesh.sample_points_uniformly(number_of_points=n_points)\n",
    "    pcd_t = target_mesh.sample_points_uniformly(number_of_points=n_points)\n",
    "    d = np.asarray(pcd_s.compute_point_cloud_distance(pcd_t))\n",
    "    mean_error = np.mean(d)\n",
    "    max_error  = np.max(d)\n",
    "    return mean_error, max_error\n",
    "\n",
    "mean_surface, max_surface = compute_surface_matching_accuracy(mesh1, mesh2)\n",
    "mean_surface_mm = mean_surface / SCALE\n",
    "max_surface_mm  = max_surface  / SCALE\n",
    "\n",
    "print(\"— 표면 일치도 —\")\n",
    "print(f\"평균 오차: {mean_surface_mm:.4f} mm (참고용)\")\n",
    "print(f\"최대 오차: {max_surface_mm:.4f} mm → {'o' if max_surface_mm <= 0.1 else '❌'}\")\n"
   ]
  },
  {
   "cell_type": "markdown",
   "id": "b850c6ea",
   "metadata": {},
   "source": [
    "# 특정특징 정확도"
   ]
  },
  {
   "cell_type": "code",
   "execution_count": null,
   "id": "7b5f2053",
   "metadata": {},
   "outputs": [],
   "source": []
  },
  {
   "cell_type": "markdown",
   "id": "943ef0fd",
   "metadata": {},
   "source": [
    "# 부피 및 치수 정확도"
   ]
  },
  {
   "cell_type": "code",
   "execution_count": null,
   "id": "4fb9a84b",
   "metadata": {},
   "outputs": [],
   "source": []
  },
  {
   "cell_type": "markdown",
   "id": "0b947c66",
   "metadata": {},
   "source": [
    "# 형상 편차 시각화"
   ]
  },
  {
   "cell_type": "code",
   "execution_count": null,
   "id": "bfdce84d",
   "metadata": {},
   "outputs": [],
   "source": [
    "import numpy as np\n",
    "import plotly.graph_objects as go\n",
    "import trimesh\n",
    "\n",
    "def visualize(title, path):\n",
    "    # .ply 파일 로드\n",
    "    mesh = trimesh.load(path)\n",
    "\n",
    "    # Plotly로 3D 시각화\n",
    "    fig = go.Figure(\n",
    "        data=[\n",
    "            go.Mesh3d(\n",
    "                x=mesh.vertices[:, 0],\n",
    "                y=mesh.vertices[:, 1],\n",
    "                z=mesh.vertices[:, 2],\n",
    "                i=mesh.faces[:, 0],\n",
    "                j=mesh.faces[:, 1],\n",
    "                k=mesh.faces[:, 2],\n",
    "                opacity=1.0,\n",
    "                color='lightblue'\n",
    "            )\n",
    "        ],\n",
    "        layout=dict(\n",
    "            title=dict(text=title, x=0.5),\n",
    "            scene=dict(\n",
    "                xaxis=dict(visible=False),\n",
    "                yaxis=dict(visible=False),\n",
    "                zaxis=dict(visible=False),\n",
    "                aspectmode='data'\n",
    "            ),\n",
    "            margin=dict(t=40, b=10, l=0, r=0),\n",
    "        )\n",
    "    )\n",
    "    fig.show()\n",
    "\n",
    "# Point2CAD 결과 파일 경로 (본인 폴더 맞춰서 수정!)\n",
    "unclipped_path = \"C:/Users/user/Documents/GitHub/Ai_coding_study/point2cad/out/unclipped/mesh.ply\"\n",
    "\n",
    "clipped_path = \"C:/Users/user/Documents/GitHub/Ai_coding_study/point2cad/out/clipped/mesh.ply\"\n",
    "\n",
    "\n",
    "# 시각화 실행\n",
    "visualize(\"Unclipped Surface\", unclipped_path)\n",
    "visualize(\"Clipped Surface\", clipped_path)\n"
   ]
  }
 ],
 "metadata": {
  "kernelspec": {
   "display_name": "point2cad",
   "language": "python",
   "name": "python3"
  },
  "language_info": {
   "codemirror_mode": {
    "name": "ipython",
    "version": 3
   },
   "file_extension": ".py",
   "mimetype": "text/x-python",
   "name": "python",
   "nbconvert_exporter": "python",
   "pygments_lexer": "ipython3",
   "version": "3.9.21"
  }
 },
 "nbformat": 4,
 "nbformat_minor": 5
}
