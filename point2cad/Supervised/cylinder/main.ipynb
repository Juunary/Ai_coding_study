{
 "cells": [
  {
   "cell_type": "markdown",
   "id": "485af472",
   "metadata": {},
   "source": [
    "## Json 바탕 이상데이터 생성\n"
   ]
  },
  {
   "cell_type": "code",
   "execution_count": 3,
   "id": "c31932ac",
   "metadata": {},
   "outputs": [
    {
     "name": "stdout",
     "output_type": "stream",
     "text": [
      "✔ 저장 완료 → ./data/cylinder_synthetic_3cls.xyzc\n"
     ]
    }
   ],
   "source": [
    "import json, numpy as np, open3d as o3d, os\n",
    "\n",
    "# ---------- 1. JSON 파라미터 ----------\n",
    "with open(\"cylinder_fitting_result.json\") as f:\n",
    "    info = json.load(f)\n",
    "d  = np.asarray(info[\"params\"][0])\n",
    "p0 = np.asarray(info[\"params\"][1])\n",
    "r  = float(info[\"params\"][2])\n",
    "d /= np.linalg.norm(d)\n",
    "\n",
    "# ---------- 2. half_h ----------\n",
    "scan_xyz = np.loadtxt(\"cylinder.xyz\")[:, :3]\n",
    "proj = (scan_xyz - p0) @ d\n",
    "half_h = (proj.max() - proj.min()) / 2\n",
    "\n",
    "# ---------- 3. 균일 샘플 함수 ----------\n",
    "def sample_cylinder_area_uniform(center, d, r, half_h,\n",
    "                                 total_pts=15_000, add_caps=True):\n",
    "    tmp = np.array([1,0,0]) if abs(d[0]) < 0.9 else np.array([0,1,0])\n",
    "    u = np.cross(d, tmp);  u /= np.linalg.norm(u)\n",
    "    v = np.cross(d, u)\n",
    "\n",
    "    h = 2*half_h\n",
    "    A_side = 2*np.pi*r*h\n",
    "    A_cap  = np.pi*r*r\n",
    "    if add_caps:\n",
    "        A_tot = A_side + 2*A_cap\n",
    "        n_side = int(total_pts * A_side / A_tot)\n",
    "        n_cap  = int(total_pts * A_cap  / A_tot)\n",
    "    else:\n",
    "        n_side, n_cap = total_pts, 0\n",
    "\n",
    "    # --- 측면 ---\n",
    "    z_rand = np.random.uniform(-half_h, half_h, n_side)\n",
    "    t_rand = np.random.uniform(0, 2*np.pi, n_side)\n",
    "    side = (center\n",
    "            + np.outer(z_rand, d)\n",
    "            + np.outer(r*np.cos(t_rand), u)\n",
    "            + np.outer(r*np.sin(t_rand), v))\n",
    "\n",
    "    # --- 뚜껑 ---\n",
    "    def disk(center_cap):\n",
    "        rr = r*np.sqrt(np.random.rand(n_cap))\n",
    "        tt = 2*np.pi*np.random.rand(n_cap)\n",
    "        return (center_cap\n",
    "                + np.outer(rr*np.cos(tt), u)\n",
    "                + np.outer(rr*np.sin(tt), v))\n",
    "\n",
    "    caps = []\n",
    "    if add_caps and n_cap > 0:\n",
    "        caps.append(disk(center + d*half_h))   # 윗뚜껑\n",
    "        caps.append(disk(center - d*half_h))   # 아랫뚜껑\n",
    "\n",
    "    return side, caps  # side:(n_side,3)  caps:[top,bottom]\n",
    "\n",
    "# ---------- 4. 샘플링 ----------\n",
    "side_pts, [top_pts, bot_pts] = sample_cylinder_area_uniform(\n",
    "    p0, d, r, half_h, total_pts=15_000, add_caps=True)\n",
    "\n",
    "# ---------- 5. 라벨링 ----------\n",
    "# 0 = 아랫뚜껑, 1 = 윗뚜껑, 2 = 측면\n",
    "lab_side = np.full(len(side_pts), 2, dtype=int)\n",
    "lab_top  = np.full(len(top_pts),  1, dtype=int)\n",
    "lab_bot  = np.full(len(bot_pts),  0, dtype=int)\n",
    "\n",
    "pts = np.vstack([bot_pts, top_pts, side_pts])\n",
    "labs = np.concatenate([lab_bot, lab_top, lab_side])\n",
    "\n",
    "# ---------- 6. 저장 ----------\n",
    "os.makedirs(\"data\", exist_ok=True)\n",
    "out_path = \"./data/cylinder_synthetic_3cls.xyzc\"\n",
    "np.savetxt(out_path,\n",
    "           np.hstack([pts, labs[:,None]]),\n",
    "           fmt=\"%.6f %.6f %.6f %.8e\")   # 라벨도 e‑표기\n",
    "\n",
    "print(\"✔ 저장 완료 →\", out_path)\n"
   ]
  },
  {
   "cell_type": "markdown",
   "id": "0c2ec597",
   "metadata": {},
   "source": [
    "## 오리진 데이터 레이어 개수 5 > 3개로 줄이기"
   ]
  },
  {
   "cell_type": "code",
   "execution_count": 4,
   "id": "55fa68aa",
   "metadata": {},
   "outputs": [
    {
     "name": "stdout",
     "output_type": "stream",
     "text": [
      "✔ 저장 완료 → ./data/cylinder_pred_3cls.xyzc\n"
     ]
    }
   ],
   "source": [
    "import numpy as np\n",
    "\n",
    "arr = np.loadtxt(\"cylinder_prediction.xyzc\")   # (N,4)\n",
    "xyz  = arr[:, :3]\n",
    "lab  = arr[:, 3]\n",
    "\n",
    "# 1) 잘못된 라벨(2,4) 제거\n",
    "lab[lab == 4] = 2\n",
    "\n",
    "# 2) 라벨 3 → 2  (최종 0·1·2)\n",
    "lab[lab == 3] = 2\n",
    "\n",
    "arr_fixed = np.hstack([xyz, lab[:, None]])\n",
    "\n",
    "out_path = \"./data/cylinder_pred_3cls.xyzc\"\n",
    "np.savetxt(out_path,\n",
    "           arr_fixed,\n",
    "           fmt=\"%.6e %.6e %.6e %.0e\")   # 4열 모두 e‑표기\n",
    "print(\"✔ 저장 완료 →\", out_path)\n"
   ]
  },
  {
   "cell_type": "markdown",
   "id": "e934d9a4",
   "metadata": {},
   "source": [
    "셀 ② : 데이터로더 정의"
   ]
  },
  {
   "cell_type": "code",
   "execution_count": 5,
   "id": "c660b761",
   "metadata": {},
   "outputs": [],
   "source": [
    "import numpy as np, torch, open3d as o3d\n",
    "from torch.utils.data import Dataset, DataLoader\n",
    "\n",
    "class XYzcDataset(Dataset):\n",
    "    \"\"\" x y z label (ASCII)  →  중심화·스케일·랜덤샘플링 후 Tensor 반환 \"\"\"\n",
    "    def __init__(self, file_list, n_points=4096):\n",
    "        self.files, self.n_points = file_list, n_points\n",
    "\n",
    "    def __len__(self):  return len(self.files)\n",
    "\n",
    "    def __getitem__(self, idx):\n",
    "        xyzc = np.loadtxt(self.files[idx])           # (N,4)\n",
    "        xyz, label = xyzc[:, :3], xyzc[:, 3].astype(np.int64)\n",
    "\n",
    "        # 랜덤 4096 점 샘플 / 부족 시 중복\n",
    "        sel = np.random.choice(len(xyz), self.n_points, replace=len(xyz)<self.n_points)\n",
    "        xyz, label = xyz[sel], label[sel]\n",
    "\n",
    "        # 중심화 + 크기 정규화\n",
    "        xyz -= xyz.mean(0, keepdims=True)\n",
    "        xyz /= np.max(np.linalg.norm(xyz, axis=1))\n",
    "\n",
    "        # Tensor (B,N,3) → (B,3,N) 전치는 학습 셀에서\n",
    "        return torch.from_numpy(xyz).float(), torch.from_numpy(label)\n"
   ]
  },
  {
   "cell_type": "markdown",
   "id": "36c7e264",
   "metadata": {},
   "source": [
    "셀 ③ : 3‑클래스 PointNet 모델"
   ]
  },
  {
   "cell_type": "code",
   "execution_count": 6,
   "id": "8393824a",
   "metadata": {},
   "outputs": [],
   "source": [
    "import torch.nn as nn, torch.nn.functional as F\n",
    "\n",
    "class PointNetSeg(nn.Module):\n",
    "    def __init__(self, num_classes=3):\n",
    "        super().__init__()\n",
    "        self.conv1 = nn.Conv1d(3, 64, 1)\n",
    "        self.conv2 = nn.Conv1d(64, 128, 1)\n",
    "        self.conv3 = nn.Conv1d(128, 1024, 1)\n",
    "        self.bn1, self.bn2, self.bn3 = nn.BatchNorm1d(64), nn.BatchNorm1d(128), nn.BatchNorm1d(1024)\n",
    "\n",
    "        self.conv4 = nn.Conv1d(1088, 512, 1)\n",
    "        self.conv5 = nn.Conv1d(512, 256, 1)\n",
    "        self.conv6 = nn.Conv1d(256, 128, 1)\n",
    "        self.conv7 = nn.Conv1d(128, num_classes, 1)\n",
    "        self.bn4, self.bn5, self.bn6 = nn.BatchNorm1d(512), nn.BatchNorm1d(256), nn.BatchNorm1d(128)\n",
    "\n",
    "    def forward(self, x):               # x:(B,3,N)\n",
    "        B, _, N = x.size()\n",
    "        x1 = F.relu(self.bn1(self.conv1(x)))\n",
    "        x2 = F.relu(self.bn2(self.conv2(x1)))\n",
    "        x3 = F.relu(self.bn3(self.conv3(x2)))        # (B,1024,N)\n",
    "        global_feat = torch.max(x3, 2, keepdim=True)[0].repeat(1,1,N)\n",
    "        x = torch.cat([x1, global_feat], 1)          # (B,1088,N)\n",
    "        x = F.relu(self.bn4(self.conv4(x)))\n",
    "        x = F.relu(self.bn5(self.conv5(x)))\n",
    "        x = F.relu(self.bn6(self.conv6(x)))\n",
    "        x = self.conv7(x)                            # (B,3,N)\n",
    "        return x\n"
   ]
  },
  {
   "cell_type": "markdown",
   "id": "bcfe5ec7",
   "metadata": {},
   "source": [
    "라벨 확인용 점검 코드"
   ]
  },
  {
   "cell_type": "code",
   "execution_count": 7,
   "id": "4e94aa5b",
   "metadata": {},
   "outputs": [
    {
     "name": "stdout",
     "output_type": "stream",
     "text": [
      "=== (A) 첫 배치 라벨 확인 ===\n",
      "unique labels in first batch -> tensor([0, 1, 2])\n",
      "\n",
      "=== (B) 파일별 라벨 전수 확인 ===\n",
      "cylinder_synthetic_3cls.xyzc   unique labels -> [0. 1. 2.]\n",
      "cylinder_pred_3cls.xyzc        unique labels -> [0. 1. 2.]\n",
      "cylinder_synthetic_3cls.xyzc   unique labels -> [0. 1. 2.]\n",
      "cylinder_pred_3cls.xyzc        unique labels -> [0. 1. 2.]\n"
     ]
    }
   ],
   "source": [
    "import os, numpy as np, torch\n",
    "from torch.utils.data import DataLoader\n",
    "\n",
    "# ---------- 경로 ----------\n",
    "root = \"./\"           # main.ipynb 폴더\n",
    "train_files = [\n",
    "    os.path.join(root, \"data/cylinder_synthetic_3cls.xyzc\"),\n",
    "    os.path.join(root, \"data/cylinder_pred_3cls.xyzc\")\n",
    "]\n",
    "val_files = train_files[:]   # 검증용\n",
    "\n",
    "# ---------- DataLoader (라벨 확인용) ----------\n",
    "train_loader = DataLoader(\n",
    "    XYzcDataset(train_files, n_points=4096),\n",
    "    batch_size=1, shuffle=True, drop_last=False\n",
    ")\n",
    "\n",
    "print(\"=== (A) 첫 배치 라벨 확인 ===\")\n",
    "xyz, label = next(iter(train_loader))\n",
    "print(\"unique labels in first batch ->\", torch.unique(label))\n",
    "\n",
    "print(\"\\n=== (B) 파일별 라벨 전수 확인 ===\")\n",
    "for f in train_files + val_files:\n",
    "    arr  = np.loadtxt(f)          # (N,4)\n",
    "    labs = arr[:, 3]\n",
    "    uniq = np.unique(labs)\n",
    "    fname = os.path.basename(f)\n",
    "    print(f\"{fname:30s} unique labels ->\", uniq)\n",
    "\n",
    "    # --- 라벨 3 또는 0·1·2 이외 값이 있으면 샘플 5개 출력 ---\n",
    "    bad_mask = ~np.isin(labs, [0, 1, 2])\n",
    "    if bad_mask.any():\n",
    "        bad_vals = np.unique(labs[bad_mask])\n",
    "        print(f\"  ⚠️  Found unexpected labels {bad_vals}. Showing first 5 rows:\")\n",
    "        print(arr[bad_mask][:5])      # x y z label 미리보기\n"
   ]
  },
  {
   "cell_type": "markdown",
   "id": "86d4119b",
   "metadata": {},
   "source": [
    "셀 ④ : 학습 설정 & 훈련"
   ]
  },
  {
   "cell_type": "code",
   "execution_count": 8,
   "id": "ce20307f",
   "metadata": {},
   "outputs": [
    {
     "name": "stdout",
     "output_type": "stream",
     "text": [
      "class counts : [ 3532.  3402. 23274.]\n",
      "loss weights : [2.8312570e-04 2.9394473e-04 4.2966400e-05]\n"
     ]
    },
    {
     "name": "stderr",
     "output_type": "stream",
     "text": [
      "Epoch:   3%|▎         | 3/100 [00:00<00:20,  4.75it/s]"
     ]
    },
    {
     "name": "stdout",
     "output_type": "stream",
     "text": [
      "  train loss 1.0867\n",
      "  val acc 0.1150\n",
      "  train loss 0.8303\n",
      "  val acc 0.5026\n",
      "  train loss 0.5490\n",
      "  val acc 0.7640\n"
     ]
    },
    {
     "name": "stderr",
     "output_type": "stream",
     "text": [
      "Epoch:   5%|▌         | 5/100 [00:00<00:13,  7.19it/s]"
     ]
    },
    {
     "name": "stdout",
     "output_type": "stream",
     "text": [
      "  train loss 0.4730\n",
      "  val acc 0.7699\n",
      "  train loss 0.4300\n",
      "  val acc 0.7606\n",
      "  train loss 0.3981\n",
      "  val acc 0.7690\n",
      "  train loss 0.3721\n"
     ]
    },
    {
     "name": "stderr",
     "output_type": "stream",
     "text": [
      "Epoch:   9%|▉         | 9/100 [00:01<00:08, 10.63it/s]"
     ]
    },
    {
     "name": "stdout",
     "output_type": "stream",
     "text": [
      "  val acc 0.7615\n",
      "  train loss 0.3308\n",
      "  val acc 0.7939\n",
      "  train loss 0.3182\n",
      "  val acc 0.7472\n",
      "  train loss 0.2995\n",
      "  val acc 0.6953\n"
     ]
    },
    {
     "name": "stderr",
     "output_type": "stream",
     "text": [
      "Epoch:  13%|█▎        | 13/100 [00:01<00:07, 11.82it/s]"
     ]
    },
    {
     "name": "stdout",
     "output_type": "stream",
     "text": [
      "  train loss 0.2800\n",
      "  val acc 0.6726\n",
      "  train loss 0.2678\n",
      "  val acc 0.6504\n",
      "  train loss 0.2703\n",
      "  val acc 0.6858\n"
     ]
    },
    {
     "name": "stderr",
     "output_type": "stream",
     "text": [
      "Epoch:  15%|█▌        | 15/100 [00:01<00:06, 12.38it/s]"
     ]
    },
    {
     "name": "stdout",
     "output_type": "stream",
     "text": [
      "  train loss 0.2617\n",
      "  val acc 0.6897\n",
      "  train loss 0.2353\n",
      "  val acc 0.6687\n",
      "  train loss 0.2288\n",
      "  val acc 0.6920\n"
     ]
    },
    {
     "name": "stderr",
     "output_type": "stream",
     "text": [
      "Epoch:  19%|█▉        | 19/100 [00:01<00:06, 12.84it/s]"
     ]
    },
    {
     "name": "stdout",
     "output_type": "stream",
     "text": [
      "  train loss 0.2090\n",
      "  val acc 0.7203\n",
      "  train loss 0.1934\n",
      "  val acc 0.7419\n",
      "  train loss 0.1838\n",
      "  val acc 0.7612\n"
     ]
    },
    {
     "name": "stderr",
     "output_type": "stream",
     "text": [
      "Epoch:  21%|██        | 21/100 [00:02<00:05, 13.41it/s]"
     ]
    },
    {
     "name": "stdout",
     "output_type": "stream",
     "text": [
      "  train loss 0.1743\n",
      "  val acc 0.7776\n",
      "  train loss 0.1791\n",
      "  val acc 0.7891\n",
      "  train loss 0.1681\n",
      "  val acc 0.7633\n"
     ]
    },
    {
     "name": "stderr",
     "output_type": "stream",
     "text": [
      "Epoch:  25%|██▌       | 25/100 [00:02<00:05, 14.28it/s]"
     ]
    },
    {
     "name": "stdout",
     "output_type": "stream",
     "text": [
      "  train loss 0.1584\n",
      "  val acc 0.7490\n",
      "  train loss 0.1531\n",
      "  val acc 0.7548\n",
      "  train loss 0.1440\n",
      "  val acc 0.7479\n",
      "  train loss 0.1450\n"
     ]
    },
    {
     "name": "stderr",
     "output_type": "stream",
     "text": [
      "Epoch:  29%|██▉       | 29/100 [00:02<00:04, 14.64it/s]"
     ]
    },
    {
     "name": "stdout",
     "output_type": "stream",
     "text": [
      "  val acc 0.7457\n",
      "  train loss 0.1514\n",
      "  val acc 0.7635\n",
      "  train loss 0.1287\n",
      "  val acc 0.7936\n",
      "  train loss 0.1394\n",
      "  val acc 0.7931\n"
     ]
    },
    {
     "name": "stderr",
     "output_type": "stream",
     "text": [
      "Epoch:  31%|███       | 31/100 [00:02<00:04, 14.82it/s]"
     ]
    },
    {
     "name": "stdout",
     "output_type": "stream",
     "text": [
      "  train loss 0.1402\n",
      "  val acc 0.7753\n",
      "  train loss 0.1257\n",
      "  val acc 0.7332\n",
      "  train loss 0.1460\n",
      "  val acc 0.7136\n",
      "  train loss 0.1193\n"
     ]
    },
    {
     "name": "stderr",
     "output_type": "stream",
     "text": [
      "Epoch:  35%|███▌      | 35/100 [00:02<00:04, 14.65it/s]"
     ]
    },
    {
     "name": "stdout",
     "output_type": "stream",
     "text": [
      "  val acc 0.7294\n",
      "  train loss 0.1279\n",
      "  val acc 0.7727\n",
      "  train loss 0.1084\n",
      "  val acc 0.7963\n",
      "  train loss 0.1191\n"
     ]
    },
    {
     "name": "stderr",
     "output_type": "stream",
     "text": [
      "Epoch:  37%|███▋      | 37/100 [00:03<00:04, 14.60it/s]"
     ]
    },
    {
     "name": "stdout",
     "output_type": "stream",
     "text": [
      "  val acc 0.7446\n",
      "  train loss 0.1030\n",
      "  val acc 0.7072\n",
      "  train loss 0.1116\n",
      "  val acc 0.7389\n",
      "  train loss 0.0968\n"
     ]
    },
    {
     "name": "stderr",
     "output_type": "stream",
     "text": [
      "Epoch:  41%|████      | 41/100 [00:03<00:04, 13.56it/s]"
     ]
    },
    {
     "name": "stdout",
     "output_type": "stream",
     "text": [
      "  val acc 0.7780\n",
      "  train loss 0.1087\n",
      "  val acc 0.7596\n",
      "  train loss 0.1005\n",
      "  val acc 0.7911\n",
      "  train loss 0.0983\n"
     ]
    },
    {
     "name": "stderr",
     "output_type": "stream",
     "text": [
      "Epoch:  45%|████▌     | 45/100 [00:03<00:03, 14.34it/s]"
     ]
    },
    {
     "name": "stdout",
     "output_type": "stream",
     "text": [
      "  val acc 0.8324\n",
      "  train loss 0.0961\n",
      "  val acc 0.8506\n",
      "  train loss 0.0881\n",
      "  val acc 0.8087\n",
      "  train loss 0.0997\n",
      "  val acc 0.8571\n"
     ]
    },
    {
     "name": "stderr",
     "output_type": "stream",
     "text": [
      "Epoch:  47%|████▋     | 47/100 [00:03<00:03, 14.37it/s]"
     ]
    },
    {
     "name": "stdout",
     "output_type": "stream",
     "text": [
      "  train loss 0.0960\n",
      "  val acc 0.8895\n",
      "  train loss 0.1068\n",
      "  val acc 0.8082\n",
      "  train loss 0.0826\n",
      "  val acc 0.7853\n"
     ]
    },
    {
     "name": "stderr",
     "output_type": "stream",
     "text": [
      "Epoch:  51%|█████     | 51/100 [00:04<00:03, 14.71it/s]"
     ]
    },
    {
     "name": "stdout",
     "output_type": "stream",
     "text": [
      "  train loss 0.1062\n",
      "  val acc 0.7816\n",
      "  train loss 0.0795\n",
      "  val acc 0.8112\n",
      "  train loss 0.0904\n",
      "  val acc 0.7786\n",
      "  train loss 0.0940\n"
     ]
    },
    {
     "name": "stderr",
     "output_type": "stream",
     "text": [
      "Epoch:  55%|█████▌    | 55/100 [00:04<00:03, 14.83it/s]"
     ]
    },
    {
     "name": "stdout",
     "output_type": "stream",
     "text": [
      "  val acc 0.7854\n",
      "  train loss 0.0837\n",
      "  val acc 0.7848\n",
      "  train loss 0.0846\n",
      "  val acc 0.8750\n",
      "  train loss 0.1110\n",
      "  val acc 0.9114\n"
     ]
    },
    {
     "name": "stderr",
     "output_type": "stream",
     "text": [
      "Epoch:  57%|█████▋    | 57/100 [00:04<00:02, 14.49it/s]"
     ]
    },
    {
     "name": "stdout",
     "output_type": "stream",
     "text": [
      "  train loss 0.1018\n",
      "  val acc 0.9215\n",
      "  train loss 0.0897\n",
      "  val acc 0.9205\n",
      "  train loss 0.0847\n",
      "  val acc 0.8975\n"
     ]
    },
    {
     "name": "stderr",
     "output_type": "stream",
     "text": [
      "Epoch:  61%|██████    | 61/100 [00:04<00:02, 13.87it/s]"
     ]
    },
    {
     "name": "stdout",
     "output_type": "stream",
     "text": [
      "  train loss 0.0808\n",
      "  val acc 0.8484\n",
      "  train loss 0.0766\n",
      "  val acc 0.8186\n",
      "  train loss 0.0902\n",
      "  val acc 0.7833\n"
     ]
    },
    {
     "name": "stderr",
     "output_type": "stream",
     "text": [
      "Epoch:  63%|██████▎   | 63/100 [00:04<00:02, 13.76it/s]"
     ]
    },
    {
     "name": "stdout",
     "output_type": "stream",
     "text": [
      "  train loss 0.0974\n",
      "  val acc 0.7700\n",
      "  train loss 0.0799\n",
      "  val acc 0.7686\n",
      "  train loss 0.0724\n",
      "  val acc 0.7694\n"
     ]
    },
    {
     "name": "stderr",
     "output_type": "stream",
     "text": [
      "Epoch:  67%|██████▋   | 67/100 [00:05<00:02, 13.59it/s]"
     ]
    },
    {
     "name": "stdout",
     "output_type": "stream",
     "text": [
      "  train loss 0.0942\n",
      "  val acc 0.7727\n",
      "  train loss 0.0894\n",
      "  val acc 0.7684\n",
      "  train loss 0.0759\n",
      "  val acc 0.7684\n"
     ]
    },
    {
     "name": "stderr",
     "output_type": "stream",
     "text": [
      "Epoch:  69%|██████▉   | 69/100 [00:05<00:02, 13.55it/s]"
     ]
    },
    {
     "name": "stdout",
     "output_type": "stream",
     "text": [
      "  train loss 0.0696\n",
      "  val acc 0.7753\n",
      "  train loss 0.0853\n",
      "  val acc 0.7664\n",
      "  train loss 0.0635\n",
      "  val acc 0.7705\n"
     ]
    },
    {
     "name": "stderr",
     "output_type": "stream",
     "text": [
      "Epoch:  73%|███████▎  | 73/100 [00:05<00:01, 13.54it/s]"
     ]
    },
    {
     "name": "stdout",
     "output_type": "stream",
     "text": [
      "  train loss 0.0744\n",
      "  val acc 0.7788\n",
      "  train loss 0.0739\n",
      "  val acc 0.7678\n",
      "  train loss 0.0611\n",
      "  val acc 0.7698\n"
     ]
    },
    {
     "name": "stderr",
     "output_type": "stream",
     "text": [
      "Epoch:  75%|███████▌  | 75/100 [00:05<00:01, 13.35it/s]"
     ]
    },
    {
     "name": "stdout",
     "output_type": "stream",
     "text": [
      "  train loss 0.0843\n",
      "  val acc 0.7677\n",
      "  train loss 0.0676\n",
      "  val acc 0.7753\n",
      "  train loss 0.0890\n"
     ]
    },
    {
     "name": "stderr",
     "output_type": "stream",
     "text": [
      "Epoch:  77%|███████▋  | 77/100 [00:06<00:01, 12.42it/s]"
     ]
    },
    {
     "name": "stdout",
     "output_type": "stream",
     "text": [
      "  val acc 0.7679\n",
      "  train loss 0.0649\n",
      "  val acc 0.7721\n",
      "  train loss 0.0579\n",
      "  val acc 0.7668\n",
      "  train loss 0.0706\n"
     ]
    },
    {
     "name": "stderr",
     "output_type": "stream",
     "text": [
      "Epoch:  81%|████████  | 81/100 [00:06<00:01, 12.76it/s]"
     ]
    },
    {
     "name": "stdout",
     "output_type": "stream",
     "text": [
      "  val acc 0.7700\n",
      "  train loss 0.0596\n",
      "  val acc 0.7759\n",
      "  train loss 0.0627\n",
      "  val acc 0.7714\n",
      "  train loss 0.0593\n"
     ]
    },
    {
     "name": "stderr",
     "output_type": "stream",
     "text": [
      "Epoch:  83%|████████▎ | 83/100 [00:06<00:01, 12.74it/s]"
     ]
    },
    {
     "name": "stdout",
     "output_type": "stream",
     "text": [
      "  val acc 0.7764\n",
      "  train loss 0.0674\n",
      "  val acc 0.7665\n",
      "  train loss 0.0504\n",
      "  val acc 0.7584\n"
     ]
    },
    {
     "name": "stderr",
     "output_type": "stream",
     "text": [
      "Epoch:  87%|████████▋ | 87/100 [00:06<00:01, 12.54it/s]"
     ]
    },
    {
     "name": "stdout",
     "output_type": "stream",
     "text": [
      "  train loss 0.0559\n",
      "  val acc 0.7694\n",
      "  train loss 0.0529\n",
      "  val acc 0.7688\n",
      "  train loss 0.0555\n",
      "  val acc 0.7711\n"
     ]
    },
    {
     "name": "stderr",
     "output_type": "stream",
     "text": [
      "Epoch:  89%|████████▉ | 89/100 [00:07<00:00, 12.63it/s]"
     ]
    },
    {
     "name": "stdout",
     "output_type": "stream",
     "text": [
      "  train loss 0.0640\n",
      "  val acc 0.7655\n",
      "  train loss 0.0564\n",
      "  val acc 0.7700\n",
      "  train loss 0.0880\n"
     ]
    },
    {
     "name": "stderr",
     "output_type": "stream",
     "text": [
      "Epoch:  91%|█████████ | 91/100 [00:07<00:00, 12.58it/s]"
     ]
    },
    {
     "name": "stdout",
     "output_type": "stream",
     "text": [
      "  val acc 0.7765\n",
      "  train loss 0.1116\n",
      "  val acc 0.8416\n",
      "  train loss 0.0830\n",
      "  val acc 0.8882\n",
      "  train loss 0.0784\n"
     ]
    },
    {
     "name": "stderr",
     "output_type": "stream",
     "text": [
      "Epoch:  95%|█████████▌| 95/100 [00:07<00:00, 12.43it/s]"
     ]
    },
    {
     "name": "stdout",
     "output_type": "stream",
     "text": [
      "  val acc 0.9080\n",
      "  train loss 0.0787\n",
      "  val acc 0.9183\n",
      "  train loss 0.0558\n",
      "  val acc 0.8671\n"
     ]
    },
    {
     "name": "stderr",
     "output_type": "stream",
     "text": [
      "Epoch:  97%|█████████▋| 97/100 [00:07<00:00, 12.63it/s]"
     ]
    },
    {
     "name": "stdout",
     "output_type": "stream",
     "text": [
      "  train loss 0.0696\n",
      "  val acc 0.7808\n",
      "  train loss 0.0615\n",
      "  val acc 0.7421\n",
      "  train loss 0.0659\n"
     ]
    },
    {
     "name": "stderr",
     "output_type": "stream",
     "text": [
      "Epoch: 100%|██████████| 100/100 [00:07<00:00, 12.70it/s]"
     ]
    },
    {
     "name": "stdout",
     "output_type": "stream",
     "text": [
      "  val acc 0.7079\n",
      "  train loss 0.0542\n",
      "  val acc 0.6987\n",
      "  train loss 0.0508\n",
      "  val acc 0.6630\n",
      "✅  seg_cylinder_3cls.pth 저장\n"
     ]
    },
    {
     "name": "stderr",
     "output_type": "stream",
     "text": [
      "\n"
     ]
    }
   ],
   "source": [
    "from tqdm import trange\n",
    "import torch, math\n",
    "\n",
    "device = torch.device(\"cuda\")\n",
    "model  = PointNetSeg(num_classes=3).to(device)\n",
    "\n",
    "# ----- 클래스 불균형 가중치 -----\n",
    "# ----- 클래스 불균형 가중치 (0 division 방지) -----\n",
    "cnts = np.bincount(\n",
    "    np.concatenate([np.loadtxt(f)[:,3].astype(int) for f in train_files]),\n",
    "    minlength=3\n",
    ").astype(float)\n",
    "\n",
    "# 0개 클래스 → 가중치 0 (또는 1) 로 설정\n",
    "cnts[cnts == 0] = np.inf        # 1/inf = 0  → Loss에서 해당 클래스 무시\n",
    "weights = torch.tensor(1.0 / cnts, dtype=torch.float32).to(device)\n",
    "\n",
    "criterion = torch.nn.CrossEntropyLoss(weight=weights)\n",
    "print(\"class counts :\", cnts)\n",
    "print(\"loss weights :\", weights.cpu().numpy())\n",
    "\n",
    "\n",
    "# ----- DataLoader -----\n",
    "train_loader = DataLoader(XYzcDataset(train_files), batch_size=2,\n",
    "                          shuffle=True, drop_last=False)\n",
    "val_loader   = DataLoader(XYzcDataset(train_files), batch_size=2,\n",
    "                          shuffle=False, drop_last=False)\n",
    "\n",
    "opt = torch.optim.Adam(model.parameters(), lr=1e-3)\n",
    "\n",
    "for epoch in trange(100, desc=\"Epoch\"):\n",
    "    model.train(); running=0\n",
    "    for xyz, label in train_loader:\n",
    "        xyz, label = xyz.to(device), label.to(device)\n",
    "        xyz = xyz.permute(0,2,1)\n",
    "        opt.zero_grad()\n",
    "        loss = criterion(model(xyz), label)\n",
    "        loss.backward(); opt.step()\n",
    "        running += loss.item()\n",
    "    print(f\"  train loss {running/len(train_loader):.4f}\")\n",
    "\n",
    "    # ---- 간단 검증 ----\n",
    "    model.eval(); correct=tot=0\n",
    "    with torch.no_grad():\n",
    "        for xyz, label in val_loader:\n",
    "            xyz, label = xyz.to(device), label.to(device)\n",
    "            pred = model(xyz.permute(0,2,1)).argmax(1)\n",
    "            correct += (pred==label).sum().item(); tot += label.numel()\n",
    "    print(f\"  val acc {correct/tot:.4f}\")\n",
    "\n",
    "torch.save(model.state_dict(), \"seg_cylinder_3cls.pth\")\n",
    "print(\"✅  seg_cylinder_3cls.pth 저장\")\n"
   ]
  },
  {
   "cell_type": "markdown",
   "id": "2fdddc32",
   "metadata": {},
   "source": [
    "셀 ⑤ : 원본 스캔 cylinder.xyz 추론 & 저장"
   ]
  },
  {
   "cell_type": "code",
   "execution_count": 9,
   "id": "35acd876",
   "metadata": {},
   "outputs": [
    {
     "name": "stdout",
     "output_type": "stream",
     "text": [
      "📝  cylinder_pred_new.xyzc 저장 (라벨 0·1·2)\n",
      "📝  cylinder_pred_new.ply 저장 (색으로 확인)\n"
     ]
    }
   ],
   "source": [
    "import open3d as o3d\n",
    "\n",
    "# ----- 모델 로드 -----\n",
    "model.load_state_dict(torch.load(\"seg_cylinder_3cls.pth\", map_location=device))\n",
    "model.eval()\n",
    "\n",
    "# ----- 입력 전처리 -----\n",
    "xyz_raw = np.loadtxt(\"cylinder.xyz\")[:, :3]\n",
    "xyz_norm = xyz_raw - xyz_raw.mean(0, keepdims=True)\n",
    "xyz_norm /= np.max(np.linalg.norm(xyz_norm, axis=1))\n",
    "\n",
    "with torch.no_grad():\n",
    "    pts = torch.from_numpy(xyz_norm).float().unsqueeze(0).to(device)  # (1,N,3)\n",
    "    pred = model(pts.permute(0,2,1)).argmax(1).cpu().numpy()[0]\n",
    "\n",
    "# ----- 저장 -----\n",
    "xyzc_out = np.hstack([xyz_raw, pred[:,None]])\n",
    "np.savetxt(\"cylinder_pred_new.xyzc\", xyzc_out, fmt=\"%.6f %.6f %.6f %d\")\n",
    "print(\"📝  cylinder_pred_new.xyzc 저장 (라벨 0·1·2)\")\n",
    "\n",
    "pc = o3d.geometry.PointCloud()\n",
    "pc.points = o3d.utility.Vector3dVector(xyz_raw)\n",
    "colors = np.array([[1,0,0],[0,1,0],[0,0,1]])\n",
    "pc.colors = o3d.utility.Vector3dVector(colors[pred])\n",
    "o3d.io.write_point_cloud(\"cylinder_pred_new.ply\", pc)\n",
    "print(\"📝  cylinder_pred_new.ply 저장 (색으로 확인)\")\n"
   ]
  }
 ],
 "metadata": {
  "kernelspec": {
   "display_name": "base",
   "language": "python",
   "name": "python3"
  },
  "language_info": {
   "codemirror_mode": {
    "name": "ipython",
    "version": 3
   },
   "file_extension": ".py",
   "mimetype": "text/x-python",
   "name": "python",
   "nbconvert_exporter": "python",
   "pygments_lexer": "ipython3",
   "version": "3.12.4"
  }
 },
 "nbformat": 4,
 "nbformat_minor": 5
}
