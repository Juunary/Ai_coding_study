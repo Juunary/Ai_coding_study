{
 "cells": [
  {
   "cell_type": "code",
   "execution_count": null,
   "metadata": {},
   "outputs": [],
   "source": [
    "import torch\n",
    "\n",
    "# CUDA 확인\n",
    "if torch.cuda.is_available():\n",
    "    props = torch.cuda.get_device_properties(0)\n",
    "    print(\"CUDA compute capability:\", f\"{props.major}{props.minor}\")\n",
    "    print(\"WARNING: Environment setup takes ~30 minutes.\")\n",
    "    print(\"         The painting of the sample asset can\")\n",
    "    print(\"         be viewed at the end of this notebook\")\n",
    "    print(\"         without running anything (takes 30s to load).\")\n",
    "else:\n",
    "    print(\"CUDA not found (GPU 미사용 환경).\")\n",
    "    print(\"WARNING: Environment setup takes ~30 minutes.\")"
   ]
  },
  {
   "cell_type": "code",
   "execution_count": null,
   "metadata": {},
   "outputs": [],
   "source": []
  },
  {
   "cell_type": "code",
   "execution_count": null,
   "metadata": {},
   "outputs": [],
   "source": []
  }
 ],
 "metadata": {
  "kernelspec": {
   "display_name": "Python 3",
   "language": "python",
   "name": "python3"
  },
  "language_info": {
   "codemirror_mode": {
    "name": "ipython",
    "version": 3
   },
   "file_extension": ".py",
   "mimetype": "text/x-python",
   "name": "python",
   "nbconvert_exporter": "python",
   "pygments_lexer": "ipython3",
   "version": "3.12.5"
  }
 },
 "nbformat": 4,
 "nbformat_minor": 2
}
