{
 "cells": [
  {
   "cell_type": "code",
   "execution_count": null,
   "metadata": {},
   "outputs": [],
   "source": [
    "#@title Set up Point2CAD\n",
    "import torch\n",
    "if torch.cuda.is_available():\n",
    "    props = torch.cuda.get_device_properties(0)\n",
    "    print(\"CUDA compute capability:\", f\"{props.major}{props.minor}\")\n",
    "    print(\"WARNING: Environment setup takes ~30 minutes.\")\n",
    "    print(\"         The painting of the sample asset can\")\n",
    "    print(\"         be viewed at the end of this notebook\")\n",
    "    print(\"         without running anything (takes 30s to load).\")\n",
    "else:\n",
    "    print(\"CUDA not found, change the runtime (V100 recommended)\")\n",
    "    print(\"WARNING: Environment setup takes ~30 minutes.\")\n",
    "    print(\"         It will not survive the runtime change.\")\n",
    "\n",
    "    !git clone https://github.com/YujiaLiu76/point2cad.git point2cad_repo && mv point2cad_repo/* ./\n",
    "\n",
    "    !DEBUG=1 sh build/colab_build.sh && echo \"SETUP COMPLETE\"\n",
    "\n",
    "    #@title Launch Point2CAD\n",
    "!source miniconda3/bin/activate && \\\n",
    "    pip install trimesh && \\\n",
    "    python -m point2cad.main\n",
    "\n",
    "import numpy as np\n",
    "import plotly.graph_objects as go\n",
    "import trimesh\n",
    "\n",
    "def visualize(title, path):\n",
    "    mesh = trimesh.load(path)\n",
    "    fig = go.Figure(\n",
    "        data=[\n",
    "            go.Mesh3d(\n",
    "                x=mesh.vertices[:,0],\n",
    "                y=mesh.vertices[:,1],\n",
    "                z=mesh.vertices[:,2],\n",
    "                i=mesh.faces[:,0],\n",
    "                j=mesh.faces[:,1],\n",
    "                k=mesh.faces[:,2],\n",
    "                hoverinfo='none',\n",
    "                facecolor=mesh.visual.face_colors,\n",
    "                opacity=1.0,\n",
    "            )\n",
    "        ],\n",
    "        layout=dict(\n",
    "            title=dict(text=title, x=0.5),\n",
    "            scene=dict(\n",
    "                xaxis=dict(visible=False),\n",
    "                yaxis=dict(visible=False),\n",
    "                zaxis=dict(visible=False),\n",
    "                camera=dict(\n",
    "                  eye=dict(x=1, y=0, z=1),\n",
    "                  up=dict(x=0, y=1, z=0),\n",
    "              )\n",
    "            ),\n",
    "            margin=dict(t=40, b=10, l=0, r=0),\n",
    "        )\n",
    "    )\n",
    "    fig.show()\n",
    "\n",
    "visualize(\"Point2CAD before clipping\", \"out/unclipped/mesh.ply\")\n",
    "visualize(\"Point2CAD reconstruction\", \"out/clipped/mesh.ply\")"
   ]
  },
  {
   "cell_type": "code",
   "execution_count": null,
   "metadata": {},
   "outputs": [],
   "source": []
  },
  {
   "cell_type": "code",
   "execution_count": null,
   "metadata": {},
   "outputs": [],
   "source": []
  }
 ],
 "metadata": {
  "kernelspec": {
   "display_name": "Python 3",
   "language": "python",
   "name": "python3"
  },
  "language_info": {
   "codemirror_mode": {
    "name": "ipython",
    "version": 3
   },
   "file_extension": ".py",
   "mimetype": "text/x-python",
   "name": "python",
   "nbconvert_exporter": "python",
   "pygments_lexer": "ipython3",
   "version": "3.12.5"
  }
 },
 "nbformat": 4,
 "nbformat_minor": 2
}
