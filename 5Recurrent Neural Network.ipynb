{
 "cells": [
  {
   "cell_type": "markdown",
   "metadata": {},
   "source": [
    "파이썬으로 RNN 구현해보겠습니다"
   ]
  },
  {
   "cell_type": "code",
   "execution_count": 1,
   "metadata": {},
   "outputs": [],
   "source": [
    "import numpy as np\n",
    "\n",
    "timesteps = 10  # 시점의 수 (sequence length, 문장의 길이 등)\n",
    "input_size = 4  # 입력의 차원 (단어 벡터의 차원 등)\n",
    "hidden_size = 8 # 은닉 상태의 크기\n",
    "\n",
    "inputs = np.random.random((timesteps, input_size))  # 입력 데이터 (10, 4) 크기의 2D 텐서\n",
    "hidden_state_t = np.zeros((hidden_size,))  # 초기 은닉 상태 (8,) 크기의 1D 벡터\n"
   ]
  },
  {
   "cell_type": "code",
   "execution_count": 4,
   "metadata": {},
   "outputs": [],
   "source": [
    "Wx = np.random.random((hidden_size, input_size))  # 입력 x_t에 대한 가중치 (8, 4)\n",
    "Wh = np.random.random((hidden_size, hidden_size)) # 이전 은닉 상태 h_{t-1}에 대한 가중치 (8, 8)\n",
    "b = np.random.random((hidden_size,)) # 편향 (8,)\n"
   ]
  },
  {
   "cell_type": "code",
   "execution_count": 5,
   "metadata": {},
   "outputs": [
    {
     "name": "stdout",
     "output_type": "stream",
     "text": [
      "(1, 8)\n",
      "(2, 8)\n",
      "(3, 8)\n",
      "(4, 8)\n",
      "(5, 8)\n",
      "(6, 8)\n",
      "(7, 8)\n",
      "(8, 8)\n",
      "(9, 8)\n",
      "(10, 8)\n"
     ]
    }
   ],
   "source": [
    "total_hidden_states = []\n",
    "\n",
    "for input_t in inputs:  # 각 시점의 입력을 하나씩 가져옴\n",
    "  output_t = np.tanh(np.dot(Wx, input_t) + np.dot(Wh, hidden_state_t) + b)  # h_t 계산\n",
    "  total_hidden_states.append(list(output_t))  # 결과 저장\n",
    "  print(np.shape(total_hidden_states))  # 현재까지 저장된 은닉 상태의 shape 출력\n",
    "  hidden_state_t = output_t  # 현재 은닉 상태를 다음 시점의 은닉 상태로 업데이트\n"
   ]
  },
  {
   "cell_type": "code",
   "execution_count": 6,
   "metadata": {},
   "outputs": [
    {
     "name": "stdout",
     "output_type": "stream",
     "text": [
      "[[0.94360851 0.91252814 0.96899618 0.60254283 0.8108957  0.84333882\n",
      "  0.6487176  0.88838055]\n",
      " [0.99963594 0.99998095 0.99999541 0.99937577 0.99997536 0.99960411\n",
      "  0.99993784 0.99945907]\n",
      " [0.99982371 0.99999236 0.99999933 0.99983631 0.99999518 0.99948188\n",
      "  0.99997781 0.99954359]\n",
      " [0.99998516 0.99999867 0.99999985 0.99993204 0.99999927 0.99996393\n",
      "  0.99999383 0.99994141]\n",
      " [0.99978259 0.99998812 0.9999977  0.99977209 0.99998914 0.99967855\n",
      "  0.99997596 0.99950236]\n",
      " [0.9999904  0.99999899 0.99999992 0.99994201 0.99999955 0.99997551\n",
      "  0.99999377 0.99995804]\n",
      " [0.99994717 0.9999945  0.99999923 0.99987277 0.99999655 0.99991568\n",
      "  0.99998478 0.99984103]\n",
      " [0.99986009 0.99999395 0.99999962 0.99979481 0.9999963  0.9997467\n",
      "  0.99996613 0.99962169]\n",
      " [0.99995791 0.99999763 0.99999957 0.99990591 0.99999819 0.99988871\n",
      "  0.99999326 0.99986526]\n",
      " [0.99989376 0.99999392 0.99999916 0.9998172  0.99999525 0.99984138\n",
      "  0.99997964 0.99971621]]\n"
     ]
    }
   ],
   "source": [
    "total_hidden_states = np.stack(total_hidden_states, axis=0)  # 리스트를 배열로 변환\n",
    "print(total_hidden_states)  # 최종 은닉 상태 출력\n"
   ]
  },
  {
   "cell_type": "code",
   "execution_count": null,
   "metadata": {},
   "outputs": [],
   "source": []
  },
  {
   "cell_type": "code",
   "execution_count": null,
   "metadata": {},
   "outputs": [],
   "source": []
  }
 ],
 "metadata": {
  "kernelspec": {
   "display_name": "base",
   "language": "python",
   "name": "python3"
  },
  "language_info": {
   "codemirror_mode": {
    "name": "ipython",
    "version": 3
   },
   "file_extension": ".py",
   "mimetype": "text/x-python",
   "name": "python",
   "nbconvert_exporter": "python",
   "pygments_lexer": "ipython3",
   "version": "3.12.4"
  }
 },
 "nbformat": 4,
 "nbformat_minor": 2
}
