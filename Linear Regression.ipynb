{
 "cells": [
  {
   "cell_type": "code",
   "execution_count": 1,
   "metadata": {},
   "outputs": [
    {
     "name": "stdout",
     "output_type": "stream",
     "text": [
      "Epoch [100/1000], Loss: 0.1422\n",
      "Epoch [200/1000], Loss: 0.0781\n",
      "Epoch [300/1000], Loss: 0.0429\n",
      "Epoch [400/1000], Loss: 0.0235\n",
      "Epoch [500/1000], Loss: 0.0129\n",
      "Epoch [600/1000], Loss: 0.0071\n",
      "Epoch [700/1000], Loss: 0.0039\n",
      "Epoch [800/1000], Loss: 0.0021\n",
      "Epoch [900/1000], Loss: 0.0012\n",
      "Epoch [1000/1000], Loss: 0.0006\n"
     ]
    }
   ],
   "source": [
    "import torch\n",
    "import torch.nn as nn\n",
    "import torch.optim as optim\n",
    "\n",
    "# 데이터 준비\n",
    "x_train = torch.tensor([[1.0], [2.0], [3.0], [4.0]])  # 입력 값\n",
    "y_train = torch.tensor([[2.0], [4.0], [6.0], [8.0]])  # 실제 값\n",
    "\n",
    "# 모델 정의 (선형 회귀)\n",
    "model = nn.Linear(1, 1)  # 입력 특성 1개, 출력 1개\n",
    "\n",
    "# 손실 함수와 옵티마이저 정의\n",
    "criterion = nn.MSELoss()  # 평균 제곱 오차 (Mean Squared Error) 손실 함수\n",
    "optimizer = optim.SGD(model.parameters(), lr=0.01)  # 확률적 경사 하강법 (Stochastic Gradient Descent)\n",
    "\n",
    "# 학습\n",
    "epochs = 1000\n",
    "for epoch in range(epochs):\n",
    "    # 순전파\n",
    "    predictions = model(x_train)\n",
    "    \n",
    "    # 손실 계산\n",
    "    loss = criterion(predictions, y_train)\n",
    "    \n",
    "    # 역전파\n",
    "    optimizer.zero_grad()  # 기울기 초기화\n",
    "    loss.backward()  # 역전파 계산\n",
    "    optimizer.step()  # 가중치 업데이트\n",
    "    \n",
    "    if (epoch+1) % 100 == 0:\n",
    "        print(f'Epoch [{epoch+1}/{epochs}], Loss: {loss.item():.4f}')\n"
   ]
  }
 ],
 "metadata": {
  "kernelspec": {
   "display_name": "base",
   "language": "python",
   "name": "python3"
  },
  "language_info": {
   "codemirror_mode": {
    "name": "ipython",
    "version": 3
   },
   "file_extension": ".py",
   "mimetype": "text/x-python",
   "name": "python",
   "nbconvert_exporter": "python",
   "pygments_lexer": "ipython3",
   "version": "3.12.4"
  }
 },
 "nbformat": 4,
 "nbformat_minor": 2
}
